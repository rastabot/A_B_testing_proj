{
 "cells": [
  {
   "cell_type": "markdown",
   "metadata": {},
   "source": [
    "# Introduction\n",
    "As an analyst at a big online store and together with the marketing department, a compiled  list of hypotheses has been made  that may help boost revenue.\n",
    "These hypotheses need to br prioritized ,we need to launch an A/B test, and analyze the results."
   ]
  },
  {
   "cell_type": "markdown",
   "metadata": {},
   "source": [
    "## Data Preparation\n",
    "1.Download the data and prepare it for analysis\n",
    "\n",
    "2.Store the data on visits, orders, and expenses in variables.\n",
    "\n",
    "3.Optimize the data for analysis.Make sure each column contains the correct data type."
   ]
  },
  {
   "cell_type": "code",
   "execution_count": 63,
   "metadata": {},
   "outputs": [],
   "source": [
    "# Loading all the libraries\n",
    "import pandas as pd\n",
    "import numpy as np\n",
    "import seaborn as sns\n",
    "import matplotlib.pyplot as plt\n",
    "import plotly.express as px\n",
    "import datetime as dt\n",
    "import scipy.stats as stats\n",
    "from IPython.core.interactiveshell import InteractiveShell\n",
    "InteractiveShell.ast_node_interactivity = \"all\"\n",
    "%matplotlib inline\n",
    "pd.set_option('max_colwidth', 0)"
   ]
  },
  {
   "cell_type": "code",
   "execution_count": 64,
   "metadata": {},
   "outputs": [],
   "source": [
    "# Loading hypotheses_us  \n",
    "try:\n",
    "    hypotheses=pd.read_csv('hypotheses_us.csv',sep=';')\n",
    "except :\n",
    "    hypotheses=pd.read_csv('/datasets/hypotheses_us.csv',sep=';')\n",
    "    \n",
    "# Loading orders_log_us  \n",
    "try:\n",
    "    orders=pd.read_csv('orders_us.csv')\n",
    "except :\n",
    "    orders=pd.read_csv('/datasets/orders_us.csv')\n",
    "\n",
    "# Loading costs_us  \n",
    "try:\n",
    "    visits=pd.read_csv('visits_us.csv')\n",
    "except :\n",
    "    visits=pd.read_csv('/datasets/visits_us.csv')"
   ]
  },
  {
   "cell_type": "markdown",
   "metadata": {},
   "source": [
    "**Optimizing data**"
   ]
  },
  {
   "cell_type": "code",
   "execution_count": 65,
   "metadata": {},
   "outputs": [
    {
     "name": "stdout",
     "output_type": "stream",
     "text": [
      "<class 'pandas.core.frame.DataFrame'>\n",
      "RangeIndex: 9 entries, 0 to 8\n",
      "Data columns (total 5 columns):\n",
      " #   Column      Non-Null Count  Dtype \n",
      "---  ------      --------------  ----- \n",
      " 0   Hypothesis  9 non-null      object\n",
      " 1   Reach       9 non-null      int64 \n",
      " 2   Impact      9 non-null      int64 \n",
      " 3   Confidence  9 non-null      int64 \n",
      " 4   Effort      9 non-null      int64 \n",
      "dtypes: int64(4), object(1)\n",
      "memory usage: 1.6 KB\n"
     ]
    },
    {
     "data": {
      "text/html": [
       "<div>\n",
       "<style scoped>\n",
       "    .dataframe tbody tr th:only-of-type {\n",
       "        vertical-align: middle;\n",
       "    }\n",
       "\n",
       "    .dataframe tbody tr th {\n",
       "        vertical-align: top;\n",
       "    }\n",
       "\n",
       "    .dataframe thead th {\n",
       "        text-align: right;\n",
       "    }\n",
       "</style>\n",
       "<table border=\"1\" class=\"dataframe\">\n",
       "  <thead>\n",
       "    <tr style=\"text-align: right;\">\n",
       "      <th></th>\n",
       "      <th>Reach</th>\n",
       "      <th>Impact</th>\n",
       "      <th>Confidence</th>\n",
       "      <th>Effort</th>\n",
       "    </tr>\n",
       "  </thead>\n",
       "  <tbody>\n",
       "    <tr>\n",
       "      <th>count</th>\n",
       "      <td>9.000000</td>\n",
       "      <td>9.000000</td>\n",
       "      <td>9.000000</td>\n",
       "      <td>9.000000</td>\n",
       "    </tr>\n",
       "    <tr>\n",
       "      <th>mean</th>\n",
       "      <td>4.777778</td>\n",
       "      <td>4.777778</td>\n",
       "      <td>5.555556</td>\n",
       "      <td>4.888889</td>\n",
       "    </tr>\n",
       "    <tr>\n",
       "      <th>std</th>\n",
       "      <td>3.153481</td>\n",
       "      <td>3.192874</td>\n",
       "      <td>3.045944</td>\n",
       "      <td>2.803767</td>\n",
       "    </tr>\n",
       "    <tr>\n",
       "      <th>min</th>\n",
       "      <td>1.000000</td>\n",
       "      <td>1.000000</td>\n",
       "      <td>1.000000</td>\n",
       "      <td>1.000000</td>\n",
       "    </tr>\n",
       "    <tr>\n",
       "      <th>25%</th>\n",
       "      <td>3.000000</td>\n",
       "      <td>3.000000</td>\n",
       "      <td>3.000000</td>\n",
       "      <td>3.000000</td>\n",
       "    </tr>\n",
       "    <tr>\n",
       "      <th>50%</th>\n",
       "      <td>3.000000</td>\n",
       "      <td>3.000000</td>\n",
       "      <td>7.000000</td>\n",
       "      <td>5.000000</td>\n",
       "    </tr>\n",
       "    <tr>\n",
       "      <th>75%</th>\n",
       "      <td>8.000000</td>\n",
       "      <td>7.000000</td>\n",
       "      <td>8.000000</td>\n",
       "      <td>6.000000</td>\n",
       "    </tr>\n",
       "    <tr>\n",
       "      <th>max</th>\n",
       "      <td>10.000000</td>\n",
       "      <td>10.000000</td>\n",
       "      <td>9.000000</td>\n",
       "      <td>10.000000</td>\n",
       "    </tr>\n",
       "  </tbody>\n",
       "</table>\n",
       "</div>"
      ],
      "text/plain": [
       "           Reach     Impact  Confidence     Effort\n",
       "count  9.000000   9.000000   9.000000    9.000000 \n",
       "mean   4.777778   4.777778   5.555556    4.888889 \n",
       "std    3.153481   3.192874   3.045944    2.803767 \n",
       "min    1.000000   1.000000   1.000000    1.000000 \n",
       "25%    3.000000   3.000000   3.000000    3.000000 \n",
       "50%    3.000000   3.000000   7.000000    5.000000 \n",
       "75%    8.000000   7.000000   8.000000    6.000000 \n",
       "max    10.000000  10.000000  9.000000    10.000000"
      ]
     },
     "execution_count": 65,
     "metadata": {},
     "output_type": "execute_result"
    }
   ],
   "source": [
    "#hypotheses_us\n",
    "hypotheses.info(memory_usage='deep')\n",
    "hypotheses.describe()"
   ]
  },
  {
   "cell_type": "code",
   "execution_count": 66,
   "metadata": {},
   "outputs": [
    {
     "data": {
      "text/plain": [
       "Hypothesis    0\n",
       "Reach         0\n",
       "Impact        0\n",
       "Confidence    0\n",
       "Effort        0\n",
       "dtype: int64"
      ]
     },
     "execution_count": 66,
     "metadata": {},
     "output_type": "execute_result"
    },
    {
     "data": {
      "text/plain": [
       "transactionId    0\n",
       "visitorId        0\n",
       "date             0\n",
       "revenue          0\n",
       "group            0\n",
       "dtype: int64"
      ]
     },
     "execution_count": 66,
     "metadata": {},
     "output_type": "execute_result"
    },
    {
     "data": {
      "text/plain": [
       "date      0\n",
       "group     0\n",
       "visits    0\n",
       "dtype: int64"
      ]
     },
     "execution_count": 66,
     "metadata": {},
     "output_type": "execute_result"
    }
   ],
   "source": [
    "#cheking for nans\n",
    "hypotheses.isna().sum()\n",
    "orders.isna().sum()\n",
    "visits.isna().sum()"
   ]
  },
  {
   "cell_type": "code",
   "execution_count": 67,
   "metadata": {},
   "outputs": [
    {
     "name": "stdout",
     "output_type": "stream",
     "text": [
      "<class 'pandas.core.frame.DataFrame'>\n",
      "RangeIndex: 1197 entries, 0 to 1196\n",
      "Data columns (total 5 columns):\n",
      " #   Column         Non-Null Count  Dtype  \n",
      "---  ------         --------------  -----  \n",
      " 0   transactionId  1197 non-null   int64  \n",
      " 1   visitorId      1197 non-null   int64  \n",
      " 2   date           1197 non-null   object \n",
      " 3   revenue        1197 non-null   float64\n",
      " 4   group          1197 non-null   object \n",
      "dtypes: float64(1), int64(2), object(2)\n",
      "memory usage: 179.0 KB\n"
     ]
    }
   ],
   "source": [
    "#orders_us\n",
    "orders.info(memory_usage='deep')"
   ]
  },
  {
   "cell_type": "code",
   "execution_count": 68,
   "metadata": {},
   "outputs": [
    {
     "name": "stdout",
     "output_type": "stream",
     "text": [
      "<class 'pandas.core.frame.DataFrame'>\n",
      "RangeIndex: 1197 entries, 0 to 1196\n",
      "Data columns (total 5 columns):\n",
      " #   Column         Non-Null Count  Dtype         \n",
      "---  ------         --------------  -----         \n",
      " 0   transactionId  1197 non-null   int64         \n",
      " 1   visitorId      1197 non-null   int64         \n",
      " 2   date           1197 non-null   datetime64[ns]\n",
      " 3   revenue        1197 non-null   float64       \n",
      " 4   group          1197 non-null   object        \n",
      "dtypes: datetime64[ns](1), float64(1), int64(2), object(1)\n",
      "memory usage: 110.0 KB\n"
     ]
    }
   ],
   "source": [
    "orders['date'] = orders['date'].map(lambda x: dt.datetime.strptime(x, '%Y-%m-%d'))\n",
    "# orders['group'] -> object to category\n",
    "#orders['group'] = orders['group'].astype('category')\n",
    "orders.info(memory_usage='deep')"
   ]
  },
  {
   "cell_type": "code",
   "execution_count": 69,
   "metadata": {
    "scrolled": true
   },
   "outputs": [
    {
     "name": "stdout",
     "output_type": "stream",
     "text": [
      "<class 'pandas.core.frame.DataFrame'>\n",
      "RangeIndex: 62 entries, 0 to 61\n",
      "Data columns (total 3 columns):\n",
      " #   Column  Non-Null Count  Dtype \n",
      "---  ------  --------------  ----- \n",
      " 0   date    62 non-null     object\n",
      " 1   group   62 non-null     object\n",
      " 2   visits  62 non-null     int64 \n",
      "dtypes: int64(1), object(2)\n",
      "memory usage: 8.4 KB\n"
     ]
    }
   ],
   "source": [
    "#visits_us\n",
    "visits.info(memory_usage='deep')"
   ]
  },
  {
   "cell_type": "code",
   "execution_count": 70,
   "metadata": {},
   "outputs": [
    {
     "name": "stdout",
     "output_type": "stream",
     "text": [
      "<class 'pandas.core.frame.DataFrame'>\n",
      "RangeIndex: 62 entries, 0 to 61\n",
      "Data columns (total 3 columns):\n",
      " #   Column  Non-Null Count  Dtype         \n",
      "---  ------  --------------  -----         \n",
      " 0   date    62 non-null     datetime64[ns]\n",
      " 1   group   62 non-null     object        \n",
      " 2   visits  62 non-null     int64         \n",
      "dtypes: datetime64[ns](1), int64(1), object(1)\n",
      "memory usage: 4.8 KB\n"
     ]
    }
   ],
   "source": [
    "visits['date'] = visits['date'].map(lambda x: dt.datetime.strptime(x, '%Y-%m-%d'))\n",
    "# visits['group'] -> object to category\n",
    "#visits['group'] = visits['group'].astype('category')\n",
    "visits.info(memory_usage='deep')"
   ]
  },
  {
   "cell_type": "code",
   "execution_count": 71,
   "metadata": {},
   "outputs": [
    {
     "data": {
      "text/html": [
       "<div>\n",
       "<style scoped>\n",
       "    .dataframe tbody tr th:only-of-type {\n",
       "        vertical-align: middle;\n",
       "    }\n",
       "\n",
       "    .dataframe tbody tr th {\n",
       "        vertical-align: top;\n",
       "    }\n",
       "\n",
       "    .dataframe thead th {\n",
       "        text-align: right;\n",
       "    }\n",
       "</style>\n",
       "<table border=\"1\" class=\"dataframe\">\n",
       "  <thead>\n",
       "    <tr style=\"text-align: right;\">\n",
       "      <th></th>\n",
       "      <th>date</th>\n",
       "      <th>group</th>\n",
       "      <th>visits</th>\n",
       "    </tr>\n",
       "  </thead>\n",
       "  <tbody>\n",
       "    <tr>\n",
       "      <th>0</th>\n",
       "      <td>2019-08-01</td>\n",
       "      <td>A</td>\n",
       "      <td>719</td>\n",
       "    </tr>\n",
       "    <tr>\n",
       "      <th>1</th>\n",
       "      <td>2019-08-02</td>\n",
       "      <td>A</td>\n",
       "      <td>619</td>\n",
       "    </tr>\n",
       "    <tr>\n",
       "      <th>2</th>\n",
       "      <td>2019-08-03</td>\n",
       "      <td>A</td>\n",
       "      <td>507</td>\n",
       "    </tr>\n",
       "    <tr>\n",
       "      <th>3</th>\n",
       "      <td>2019-08-04</td>\n",
       "      <td>A</td>\n",
       "      <td>717</td>\n",
       "    </tr>\n",
       "    <tr>\n",
       "      <th>4</th>\n",
       "      <td>2019-08-05</td>\n",
       "      <td>A</td>\n",
       "      <td>756</td>\n",
       "    </tr>\n",
       "  </tbody>\n",
       "</table>\n",
       "</div>"
      ],
      "text/plain": [
       "        date group  visits\n",
       "0 2019-08-01  A     719   \n",
       "1 2019-08-02  A     619   \n",
       "2 2019-08-03  A     507   \n",
       "3 2019-08-04  A     717   \n",
       "4 2019-08-05  A     756   "
      ]
     },
     "execution_count": 71,
     "metadata": {},
     "output_type": "execute_result"
    }
   ],
   "source": [
    "visits.head()"
   ]
  },
  {
   "cell_type": "markdown",
   "metadata": {},
   "source": [
    "**Improving Column Format**"
   ]
  },
  {
   "cell_type": "code",
   "execution_count": 72,
   "metadata": {},
   "outputs": [],
   "source": [
    "hypotheses.columns = hypotheses.columns.str.lower()"
   ]
  },
  {
   "cell_type": "code",
   "execution_count": 73,
   "metadata": {},
   "outputs": [
    {
     "data": {
      "text/plain": [
       "Index(['transactionId', 'visitorId', 'date', 'revenue', 'group'], dtype='object')"
      ]
     },
     "execution_count": 73,
     "metadata": {},
     "output_type": "execute_result"
    }
   ],
   "source": [
    "orders.columns"
   ]
  },
  {
   "cell_type": "code",
   "execution_count": 74,
   "metadata": {},
   "outputs": [],
   "source": [
    "orders.columns=['transaction_id','visitor_id', 'date', 'revenue', 'group']"
   ]
  },
  {
   "cell_type": "code",
   "execution_count": 75,
   "metadata": {},
   "outputs": [
    {
     "data": {
      "text/plain": [
       "Index(['transaction_id', 'visitor_id', 'date', 'revenue', 'group'], dtype='object')"
      ]
     },
     "execution_count": 75,
     "metadata": {},
     "output_type": "execute_result"
    }
   ],
   "source": [
    "orders.columns"
   ]
  },
  {
   "cell_type": "code",
   "execution_count": 76,
   "metadata": {},
   "outputs": [
    {
     "data": {
      "text/plain": [
       "Index(['date', 'group', 'visits'], dtype='object')"
      ]
     },
     "execution_count": 76,
     "metadata": {},
     "output_type": "execute_result"
    }
   ],
   "source": [
    "visits.columns"
   ]
  },
  {
   "cell_type": "markdown",
   "metadata": {},
   "source": [
    "**cheking if there are users in group A and group B**"
   ]
  },
  {
   "cell_type": "code",
   "execution_count": 77,
   "metadata": {},
   "outputs": [
    {
     "data": {
      "text/plain": [
       "183"
      ]
     },
     "execution_count": 77,
     "metadata": {},
     "output_type": "execute_result"
    }
   ],
   "source": [
    "group_a =  orders[orders['group']=='A']\n",
    "group_b =  orders[orders['group']=='B']\n",
    "\n",
    "#merging both\n",
    "users_in_a_and_b =  group_a.merge(group_b,on='visitor_id',how='inner')\n",
    "\n",
    "users_in_a_and_b.shape[0]"
   ]
  },
  {
   "cell_type": "markdown",
   "metadata": {},
   "source": [
    "So we have 183 users in both groups, we need to filter  the orders data set correctly"
   ]
  },
  {
   "cell_type": "code",
   "execution_count": 78,
   "metadata": {},
   "outputs": [
    {
     "name": "stdout",
     "output_type": "stream",
     "text": [
      "<class 'pandas.core.frame.DataFrame'>\n",
      "Int64Index: 1016 entries, 0 to 1196\n",
      "Data columns (total 5 columns):\n",
      " #   Column          Non-Null Count  Dtype         \n",
      "---  ------          --------------  -----         \n",
      " 0   transaction_id  1016 non-null   int64         \n",
      " 1   visitor_id      1016 non-null   int64         \n",
      " 2   date            1016 non-null   datetime64[ns]\n",
      " 3   revenue         1016 non-null   float64       \n",
      " 4   group           1016 non-null   object        \n",
      "dtypes: datetime64[ns](1), float64(1), int64(2), object(1)\n",
      "memory usage: 47.6+ KB\n",
      "<class 'pandas.core.frame.DataFrame'>\n",
      "RangeIndex: 1197 entries, 0 to 1196\n",
      "Data columns (total 5 columns):\n",
      " #   Column          Non-Null Count  Dtype         \n",
      "---  ------          --------------  -----         \n",
      " 0   transaction_id  1197 non-null   int64         \n",
      " 1   visitor_id      1197 non-null   int64         \n",
      " 2   date            1197 non-null   datetime64[ns]\n",
      " 3   revenue         1197 non-null   float64       \n",
      " 4   group           1197 non-null   object        \n",
      "dtypes: datetime64[ns](1), float64(1), int64(2), object(1)\n",
      "memory usage: 46.9+ KB\n"
     ]
    }
   ],
   "source": [
    "all_orders = orders.copy()\n",
    "orders =  orders[~orders['visitor_id'].isin(users_in_a_and_b['visitor_id'])]\n",
    "orders.info()\n",
    "all_orders.info()"
   ]
  },
  {
   "cell_type": "code",
   "execution_count": 79,
   "metadata": {},
   "outputs": [
    {
     "data": {
      "text/plain": [
       "(Index(['date', 'group', 'visits'], dtype='object'),         date group  visits\n",
       " 0 2019-08-01  A     719   \n",
       " 1 2019-08-02  A     619   )"
      ]
     },
     "execution_count": 79,
     "metadata": {},
     "output_type": "execute_result"
    }
   ],
   "source": [
    "visits.columns,visits.head(2)"
   ]
  },
  {
   "cell_type": "code",
   "execution_count": 80,
   "metadata": {},
   "outputs": [
    {
     "data": {
      "text/plain": [
       "0"
      ]
     },
     "execution_count": 80,
     "metadata": {},
     "output_type": "execute_result"
    },
    {
     "name": "stdout",
     "output_type": "stream",
     "text": [
      "<class 'pandas.core.frame.DataFrame'>\n",
      "RangeIndex: 62 entries, 0 to 61\n",
      "Data columns (total 3 columns):\n",
      " #   Column  Non-Null Count  Dtype         \n",
      "---  ------  --------------  -----         \n",
      " 0   date    62 non-null     datetime64[ns]\n",
      " 1   group   62 non-null     object        \n",
      " 2   visits  62 non-null     int64         \n",
      "dtypes: datetime64[ns](1), int64(1), object(1)\n",
      "memory usage: 1.6+ KB\n"
     ]
    }
   ],
   "source": [
    "#checking visits table\n",
    "visits.duplicated(keep=False).sum()\n",
    "visits.info()"
   ]
  },
  {
   "cell_type": "markdown",
   "metadata": {},
   "source": [
    "<div class=\"alert alert-block alert-info\">\n",
    "<b>I found out that there were users in 'orders' that were on group A and B at the same time. Therefore I flitered the 'orders' table by removing these dual agents of caos</b> \n",
    "    <a class=\"tocSkip\"></a>\n",
    "</div>"
   ]
  },
  {
   "cell_type": "markdown",
   "metadata": {},
   "source": [
    "# Part 1. Prioritizing Hypotheses\n",
    "The file hypotheses_us.csv contains nine hypotheses on boosting an online store's revenue with Reach, Impact, Confidence, and Effort specified for each.\n",
    "The task is to:\n",
    "\n",
    " - Apply the ICE framework to prioritize hypotheses. Sort them in descending order of priority.\n",
    " - Apply the RICE framework to prioritize hypotheses. Sort them in descending order of priority.\n",
    " - Show how the prioritization of hypotheses changes when you use RICE instead of ICE. Provide an explanation for the changes."
   ]
  },
  {
   "cell_type": "markdown",
   "metadata": {},
   "source": [
    "## Apply the ICE framework to prioritize hypotheses\n",
    " - ICE = Impact x confidence x Ease\n",
    " - ICE = (Impact x confidence) / Effort"
   ]
  },
  {
   "cell_type": "code",
   "execution_count": 81,
   "metadata": {
    "scrolled": true
   },
   "outputs": [
    {
     "data": {
      "text/plain": [
       "\"Add product recommendation blocks to the store's site. This will increase conversion and average purchase size\""
      ]
     },
     "execution_count": 81,
     "metadata": {},
     "output_type": "execute_result"
    },
    {
     "data": {
      "text/html": [
       "<div>\n",
       "<style scoped>\n",
       "    .dataframe tbody tr th:only-of-type {\n",
       "        vertical-align: middle;\n",
       "    }\n",
       "\n",
       "    .dataframe tbody tr th {\n",
       "        vertical-align: top;\n",
       "    }\n",
       "\n",
       "    .dataframe thead th {\n",
       "        text-align: right;\n",
       "    }\n",
       "</style>\n",
       "<table border=\"1\" class=\"dataframe\">\n",
       "  <thead>\n",
       "    <tr style=\"text-align: right;\">\n",
       "      <th></th>\n",
       "      <th>hypothesis</th>\n",
       "      <th>reach</th>\n",
       "      <th>impact</th>\n",
       "      <th>confidence</th>\n",
       "      <th>effort</th>\n",
       "    </tr>\n",
       "  </thead>\n",
       "  <tbody>\n",
       "    <tr>\n",
       "      <th>0</th>\n",
       "      <td>Add two new channels for attracting traffic. This will bring 30% more users</td>\n",
       "      <td>3</td>\n",
       "      <td>10</td>\n",
       "      <td>8</td>\n",
       "      <td>6</td>\n",
       "    </tr>\n",
       "    <tr>\n",
       "      <th>1</th>\n",
       "      <td>Launch your own delivery service. This will shorten delivery time</td>\n",
       "      <td>2</td>\n",
       "      <td>5</td>\n",
       "      <td>4</td>\n",
       "      <td>10</td>\n",
       "    </tr>\n",
       "    <tr>\n",
       "      <th>2</th>\n",
       "      <td>Add product recommendation blocks to the store's site. This will increase conversion and average purchase size</td>\n",
       "      <td>8</td>\n",
       "      <td>3</td>\n",
       "      <td>7</td>\n",
       "      <td>3</td>\n",
       "    </tr>\n",
       "    <tr>\n",
       "      <th>3</th>\n",
       "      <td>Change the category structure. This will increase conversion since users will find the products they want more quickly</td>\n",
       "      <td>8</td>\n",
       "      <td>3</td>\n",
       "      <td>3</td>\n",
       "      <td>8</td>\n",
       "    </tr>\n",
       "    <tr>\n",
       "      <th>4</th>\n",
       "      <td>Change the background color on the main page. This will increase user engagement</td>\n",
       "      <td>3</td>\n",
       "      <td>1</td>\n",
       "      <td>1</td>\n",
       "      <td>1</td>\n",
       "    </tr>\n",
       "    <tr>\n",
       "      <th>5</th>\n",
       "      <td>Add a customer review page. This will increase the number of orders</td>\n",
       "      <td>3</td>\n",
       "      <td>2</td>\n",
       "      <td>2</td>\n",
       "      <td>3</td>\n",
       "    </tr>\n",
       "    <tr>\n",
       "      <th>6</th>\n",
       "      <td>Show banners with current offers and sales on the main page. This will boost conversion</td>\n",
       "      <td>5</td>\n",
       "      <td>3</td>\n",
       "      <td>8</td>\n",
       "      <td>3</td>\n",
       "    </tr>\n",
       "    <tr>\n",
       "      <th>7</th>\n",
       "      <td>Add a subscription form to all the main pages. This will help you compile a mailing list</td>\n",
       "      <td>10</td>\n",
       "      <td>7</td>\n",
       "      <td>8</td>\n",
       "      <td>5</td>\n",
       "    </tr>\n",
       "    <tr>\n",
       "      <th>8</th>\n",
       "      <td>Launch a promotion that gives users discounts on their birthdays</td>\n",
       "      <td>1</td>\n",
       "      <td>9</td>\n",
       "      <td>9</td>\n",
       "      <td>5</td>\n",
       "    </tr>\n",
       "  </tbody>\n",
       "</table>\n",
       "</div>"
      ],
      "text/plain": [
       "                                                                                                               hypothesis  \\\n",
       "0  Add two new channels for attracting traffic. This will bring 30% more users                                              \n",
       "1  Launch your own delivery service. This will shorten delivery time                                                        \n",
       "2  Add product recommendation blocks to the store's site. This will increase conversion and average purchase size           \n",
       "3  Change the category structure. This will increase conversion since users will find the products they want more quickly   \n",
       "4  Change the background color on the main page. This will increase user engagement                                         \n",
       "5  Add a customer review page. This will increase the number of orders                                                      \n",
       "6  Show banners with current offers and sales on the main page. This will boost conversion                                  \n",
       "7  Add a subscription form to all the main pages. This will help you compile a mailing list                                 \n",
       "8  Launch a promotion that gives users discounts on their birthdays                                                         \n",
       "\n",
       "   reach  impact  confidence  effort  \n",
       "0  3      10      8           6       \n",
       "1  2      5       4           10      \n",
       "2  8      3       7           3       \n",
       "3  8      3       3           8       \n",
       "4  3      1       1           1       \n",
       "5  3      2       2           3       \n",
       "6  5      3       8           3       \n",
       "7  10     7       8           5       \n",
       "8  1      9       9           5       "
      ]
     },
     "execution_count": 81,
     "metadata": {},
     "output_type": "execute_result"
    }
   ],
   "source": [
    "hypotheses.loc[2,'hypothesis']\n",
    "hypotheses"
   ]
  },
  {
   "cell_type": "code",
   "execution_count": 82,
   "metadata": {
    "scrolled": false
   },
   "outputs": [],
   "source": [
    "hypotheses['ICE'] = (hypotheses['impact'] *  hypotheses['confidence'])/hypotheses['effort']"
   ]
  },
  {
   "cell_type": "code",
   "execution_count": 83,
   "metadata": {},
   "outputs": [
    {
     "data": {
      "text/html": [
       "<div>\n",
       "<style scoped>\n",
       "    .dataframe tbody tr th:only-of-type {\n",
       "        vertical-align: middle;\n",
       "    }\n",
       "\n",
       "    .dataframe tbody tr th {\n",
       "        vertical-align: top;\n",
       "    }\n",
       "\n",
       "    .dataframe thead th {\n",
       "        text-align: right;\n",
       "    }\n",
       "</style>\n",
       "<table border=\"1\" class=\"dataframe\">\n",
       "  <thead>\n",
       "    <tr style=\"text-align: right;\">\n",
       "      <th></th>\n",
       "      <th>hypothesis</th>\n",
       "      <th>ICE</th>\n",
       "    </tr>\n",
       "  </thead>\n",
       "  <tbody>\n",
       "    <tr>\n",
       "      <th>8</th>\n",
       "      <td>Launch a promotion that gives users discounts on their birthdays</td>\n",
       "      <td>16.200000</td>\n",
       "    </tr>\n",
       "    <tr>\n",
       "      <th>0</th>\n",
       "      <td>Add two new channels for attracting traffic. This will bring 30% more users</td>\n",
       "      <td>13.333333</td>\n",
       "    </tr>\n",
       "    <tr>\n",
       "      <th>7</th>\n",
       "      <td>Add a subscription form to all the main pages. This will help you compile a mailing list</td>\n",
       "      <td>11.200000</td>\n",
       "    </tr>\n",
       "    <tr>\n",
       "      <th>6</th>\n",
       "      <td>Show banners with current offers and sales on the main page. This will boost conversion</td>\n",
       "      <td>8.000000</td>\n",
       "    </tr>\n",
       "    <tr>\n",
       "      <th>2</th>\n",
       "      <td>Add product recommendation blocks to the store's site. This will increase conversion and average purchase size</td>\n",
       "      <td>7.000000</td>\n",
       "    </tr>\n",
       "    <tr>\n",
       "      <th>1</th>\n",
       "      <td>Launch your own delivery service. This will shorten delivery time</td>\n",
       "      <td>2.000000</td>\n",
       "    </tr>\n",
       "    <tr>\n",
       "      <th>5</th>\n",
       "      <td>Add a customer review page. This will increase the number of orders</td>\n",
       "      <td>1.333333</td>\n",
       "    </tr>\n",
       "    <tr>\n",
       "      <th>3</th>\n",
       "      <td>Change the category structure. This will increase conversion since users will find the products they want more quickly</td>\n",
       "      <td>1.125000</td>\n",
       "    </tr>\n",
       "    <tr>\n",
       "      <th>4</th>\n",
       "      <td>Change the background color on the main page. This will increase user engagement</td>\n",
       "      <td>1.000000</td>\n",
       "    </tr>\n",
       "  </tbody>\n",
       "</table>\n",
       "</div>"
      ],
      "text/plain": [
       "                                                                                                               hypothesis  \\\n",
       "8  Launch a promotion that gives users discounts on their birthdays                                                         \n",
       "0  Add two new channels for attracting traffic. This will bring 30% more users                                              \n",
       "7  Add a subscription form to all the main pages. This will help you compile a mailing list                                 \n",
       "6  Show banners with current offers and sales on the main page. This will boost conversion                                  \n",
       "2  Add product recommendation blocks to the store's site. This will increase conversion and average purchase size           \n",
       "1  Launch your own delivery service. This will shorten delivery time                                                        \n",
       "5  Add a customer review page. This will increase the number of orders                                                      \n",
       "3  Change the category structure. This will increase conversion since users will find the products they want more quickly   \n",
       "4  Change the background color on the main page. This will increase user engagement                                         \n",
       "\n",
       "         ICE  \n",
       "8  16.200000  \n",
       "0  13.333333  \n",
       "7  11.200000  \n",
       "6  8.000000   \n",
       "2  7.000000   \n",
       "1  2.000000   \n",
       "5  1.333333   \n",
       "3  1.125000   \n",
       "4  1.000000   "
      ]
     },
     "execution_count": 83,
     "metadata": {},
     "output_type": "execute_result"
    }
   ],
   "source": [
    "hypotheses[['hypothesis','ICE']].sort_values('ICE',ascending=False)"
   ]
  },
  {
   "cell_type": "markdown",
   "metadata": {},
   "source": [
    "## Apply the RICE framework to prioritize hypotheses\n",
    " - RICE =  (reach x impact x confidence)/ effort"
   ]
  },
  {
   "cell_type": "code",
   "execution_count": 84,
   "metadata": {},
   "outputs": [],
   "source": [
    "hypotheses['RICE'] = (hypotheses['reach'] *hypotheses['impact'] *  hypotheses['confidence'])/hypotheses['effort']"
   ]
  },
  {
   "cell_type": "code",
   "execution_count": 85,
   "metadata": {},
   "outputs": [
    {
     "data": {
      "text/html": [
       "<div>\n",
       "<style scoped>\n",
       "    .dataframe tbody tr th:only-of-type {\n",
       "        vertical-align: middle;\n",
       "    }\n",
       "\n",
       "    .dataframe tbody tr th {\n",
       "        vertical-align: top;\n",
       "    }\n",
       "\n",
       "    .dataframe thead th {\n",
       "        text-align: right;\n",
       "    }\n",
       "</style>\n",
       "<table border=\"1\" class=\"dataframe\">\n",
       "  <thead>\n",
       "    <tr style=\"text-align: right;\">\n",
       "      <th></th>\n",
       "      <th>hypothesis</th>\n",
       "      <th>RICE</th>\n",
       "    </tr>\n",
       "  </thead>\n",
       "  <tbody>\n",
       "    <tr>\n",
       "      <th>7</th>\n",
       "      <td>Add a subscription form to all the main pages. This will help you compile a mailing list</td>\n",
       "      <td>112.0</td>\n",
       "    </tr>\n",
       "    <tr>\n",
       "      <th>2</th>\n",
       "      <td>Add product recommendation blocks to the store's site. This will increase conversion and average purchase size</td>\n",
       "      <td>56.0</td>\n",
       "    </tr>\n",
       "    <tr>\n",
       "      <th>0</th>\n",
       "      <td>Add two new channels for attracting traffic. This will bring 30% more users</td>\n",
       "      <td>40.0</td>\n",
       "    </tr>\n",
       "    <tr>\n",
       "      <th>6</th>\n",
       "      <td>Show banners with current offers and sales on the main page. This will boost conversion</td>\n",
       "      <td>40.0</td>\n",
       "    </tr>\n",
       "    <tr>\n",
       "      <th>8</th>\n",
       "      <td>Launch a promotion that gives users discounts on their birthdays</td>\n",
       "      <td>16.2</td>\n",
       "    </tr>\n",
       "  </tbody>\n",
       "</table>\n",
       "</div>"
      ],
      "text/plain": [
       "                                                                                                       hypothesis  \\\n",
       "7  Add a subscription form to all the main pages. This will help you compile a mailing list                         \n",
       "2  Add product recommendation blocks to the store's site. This will increase conversion and average purchase size   \n",
       "0  Add two new channels for attracting traffic. This will bring 30% more users                                      \n",
       "6  Show banners with current offers and sales on the main page. This will boost conversion                          \n",
       "8  Launch a promotion that gives users discounts on their birthdays                                                 \n",
       "\n",
       "    RICE  \n",
       "7  112.0  \n",
       "2  56.0   \n",
       "0  40.0   \n",
       "6  40.0   \n",
       "8  16.2   "
      ]
     },
     "execution_count": 85,
     "metadata": {},
     "output_type": "execute_result"
    }
   ],
   "source": [
    "hypotheses[['hypothesis','RICE']].sort_values('RICE',ascending=False).head()"
   ]
  },
  {
   "cell_type": "markdown",
   "metadata": {},
   "source": [
    "## Show how the prioritization of hypotheses changes when you use RICE instead of ICE. Provide an explanation for the changes."
   ]
  },
  {
   "cell_type": "code",
   "execution_count": 86,
   "metadata": {},
   "outputs": [
    {
     "name": "stdout",
     "output_type": "stream",
     "text": [
      "ICE priotization:\n"
     ]
    },
    {
     "data": {
      "text/html": [
       "<div>\n",
       "<style scoped>\n",
       "    .dataframe tbody tr th:only-of-type {\n",
       "        vertical-align: middle;\n",
       "    }\n",
       "\n",
       "    .dataframe tbody tr th {\n",
       "        vertical-align: top;\n",
       "    }\n",
       "\n",
       "    .dataframe thead th {\n",
       "        text-align: right;\n",
       "    }\n",
       "</style>\n",
       "<table border=\"1\" class=\"dataframe\">\n",
       "  <thead>\n",
       "    <tr style=\"text-align: right;\">\n",
       "      <th></th>\n",
       "      <th>hypothesis</th>\n",
       "      <th>ICE</th>\n",
       "      <th>RICE</th>\n",
       "    </tr>\n",
       "  </thead>\n",
       "  <tbody>\n",
       "    <tr>\n",
       "      <th>8</th>\n",
       "      <td>Launch a promotion that gives users discounts on their birthdays</td>\n",
       "      <td>16.200000</td>\n",
       "      <td>16.2</td>\n",
       "    </tr>\n",
       "    <tr>\n",
       "      <th>0</th>\n",
       "      <td>Add two new channels for attracting traffic. This will bring 30% more users</td>\n",
       "      <td>13.333333</td>\n",
       "      <td>40.0</td>\n",
       "    </tr>\n",
       "    <tr>\n",
       "      <th>7</th>\n",
       "      <td>Add a subscription form to all the main pages. This will help you compile a mailing list</td>\n",
       "      <td>11.200000</td>\n",
       "      <td>112.0</td>\n",
       "    </tr>\n",
       "    <tr>\n",
       "      <th>6</th>\n",
       "      <td>Show banners with current offers and sales on the main page. This will boost conversion</td>\n",
       "      <td>8.000000</td>\n",
       "      <td>40.0</td>\n",
       "    </tr>\n",
       "    <tr>\n",
       "      <th>2</th>\n",
       "      <td>Add product recommendation blocks to the store's site. This will increase conversion and average purchase size</td>\n",
       "      <td>7.000000</td>\n",
       "      <td>56.0</td>\n",
       "    </tr>\n",
       "    <tr>\n",
       "      <th>1</th>\n",
       "      <td>Launch your own delivery service. This will shorten delivery time</td>\n",
       "      <td>2.000000</td>\n",
       "      <td>4.0</td>\n",
       "    </tr>\n",
       "    <tr>\n",
       "      <th>5</th>\n",
       "      <td>Add a customer review page. This will increase the number of orders</td>\n",
       "      <td>1.333333</td>\n",
       "      <td>4.0</td>\n",
       "    </tr>\n",
       "    <tr>\n",
       "      <th>3</th>\n",
       "      <td>Change the category structure. This will increase conversion since users will find the products they want more quickly</td>\n",
       "      <td>1.125000</td>\n",
       "      <td>9.0</td>\n",
       "    </tr>\n",
       "    <tr>\n",
       "      <th>4</th>\n",
       "      <td>Change the background color on the main page. This will increase user engagement</td>\n",
       "      <td>1.000000</td>\n",
       "      <td>3.0</td>\n",
       "    </tr>\n",
       "  </tbody>\n",
       "</table>\n",
       "</div>"
      ],
      "text/plain": [
       "                                                                                                               hypothesis  \\\n",
       "8  Launch a promotion that gives users discounts on their birthdays                                                         \n",
       "0  Add two new channels for attracting traffic. This will bring 30% more users                                              \n",
       "7  Add a subscription form to all the main pages. This will help you compile a mailing list                                 \n",
       "6  Show banners with current offers and sales on the main page. This will boost conversion                                  \n",
       "2  Add product recommendation blocks to the store's site. This will increase conversion and average purchase size           \n",
       "1  Launch your own delivery service. This will shorten delivery time                                                        \n",
       "5  Add a customer review page. This will increase the number of orders                                                      \n",
       "3  Change the category structure. This will increase conversion since users will find the products they want more quickly   \n",
       "4  Change the background color on the main page. This will increase user engagement                                         \n",
       "\n",
       "         ICE   RICE  \n",
       "8  16.200000  16.2   \n",
       "0  13.333333  40.0   \n",
       "7  11.200000  112.0  \n",
       "6  8.000000   40.0   \n",
       "2  7.000000   56.0   \n",
       "1  2.000000   4.0    \n",
       "5  1.333333   4.0    \n",
       "3  1.125000   9.0    \n",
       "4  1.000000   3.0    "
      ]
     },
     "execution_count": 86,
     "metadata": {},
     "output_type": "execute_result"
    },
    {
     "name": "stdout",
     "output_type": "stream",
     "text": [
      "RICE priotization:\n"
     ]
    },
    {
     "data": {
      "text/html": [
       "<div>\n",
       "<style scoped>\n",
       "    .dataframe tbody tr th:only-of-type {\n",
       "        vertical-align: middle;\n",
       "    }\n",
       "\n",
       "    .dataframe tbody tr th {\n",
       "        vertical-align: top;\n",
       "    }\n",
       "\n",
       "    .dataframe thead th {\n",
       "        text-align: right;\n",
       "    }\n",
       "</style>\n",
       "<table border=\"1\" class=\"dataframe\">\n",
       "  <thead>\n",
       "    <tr style=\"text-align: right;\">\n",
       "      <th></th>\n",
       "      <th>hypothesis</th>\n",
       "      <th>ICE</th>\n",
       "      <th>RICE</th>\n",
       "    </tr>\n",
       "  </thead>\n",
       "  <tbody>\n",
       "    <tr>\n",
       "      <th>7</th>\n",
       "      <td>Add a subscription form to all the main pages. This will help you compile a mailing list</td>\n",
       "      <td>11.200000</td>\n",
       "      <td>112.0</td>\n",
       "    </tr>\n",
       "    <tr>\n",
       "      <th>2</th>\n",
       "      <td>Add product recommendation blocks to the store's site. This will increase conversion and average purchase size</td>\n",
       "      <td>7.000000</td>\n",
       "      <td>56.0</td>\n",
       "    </tr>\n",
       "    <tr>\n",
       "      <th>0</th>\n",
       "      <td>Add two new channels for attracting traffic. This will bring 30% more users</td>\n",
       "      <td>13.333333</td>\n",
       "      <td>40.0</td>\n",
       "    </tr>\n",
       "    <tr>\n",
       "      <th>6</th>\n",
       "      <td>Show banners with current offers and sales on the main page. This will boost conversion</td>\n",
       "      <td>8.000000</td>\n",
       "      <td>40.0</td>\n",
       "    </tr>\n",
       "    <tr>\n",
       "      <th>8</th>\n",
       "      <td>Launch a promotion that gives users discounts on their birthdays</td>\n",
       "      <td>16.200000</td>\n",
       "      <td>16.2</td>\n",
       "    </tr>\n",
       "    <tr>\n",
       "      <th>3</th>\n",
       "      <td>Change the category structure. This will increase conversion since users will find the products they want more quickly</td>\n",
       "      <td>1.125000</td>\n",
       "      <td>9.0</td>\n",
       "    </tr>\n",
       "    <tr>\n",
       "      <th>1</th>\n",
       "      <td>Launch your own delivery service. This will shorten delivery time</td>\n",
       "      <td>2.000000</td>\n",
       "      <td>4.0</td>\n",
       "    </tr>\n",
       "    <tr>\n",
       "      <th>5</th>\n",
       "      <td>Add a customer review page. This will increase the number of orders</td>\n",
       "      <td>1.333333</td>\n",
       "      <td>4.0</td>\n",
       "    </tr>\n",
       "    <tr>\n",
       "      <th>4</th>\n",
       "      <td>Change the background color on the main page. This will increase user engagement</td>\n",
       "      <td>1.000000</td>\n",
       "      <td>3.0</td>\n",
       "    </tr>\n",
       "  </tbody>\n",
       "</table>\n",
       "</div>"
      ],
      "text/plain": [
       "                                                                                                               hypothesis  \\\n",
       "7  Add a subscription form to all the main pages. This will help you compile a mailing list                                 \n",
       "2  Add product recommendation blocks to the store's site. This will increase conversion and average purchase size           \n",
       "0  Add two new channels for attracting traffic. This will bring 30% more users                                              \n",
       "6  Show banners with current offers and sales on the main page. This will boost conversion                                  \n",
       "8  Launch a promotion that gives users discounts on their birthdays                                                         \n",
       "3  Change the category structure. This will increase conversion since users will find the products they want more quickly   \n",
       "1  Launch your own delivery service. This will shorten delivery time                                                        \n",
       "5  Add a customer review page. This will increase the number of orders                                                      \n",
       "4  Change the background color on the main page. This will increase user engagement                                         \n",
       "\n",
       "         ICE   RICE  \n",
       "7  11.200000  112.0  \n",
       "2  7.000000   56.0   \n",
       "0  13.333333  40.0   \n",
       "6  8.000000   40.0   \n",
       "8  16.200000  16.2   \n",
       "3  1.125000   9.0    \n",
       "1  2.000000   4.0    \n",
       "5  1.333333   4.0    \n",
       "4  1.000000   3.0    "
      ]
     },
     "execution_count": 86,
     "metadata": {},
     "output_type": "execute_result"
    }
   ],
   "source": [
    "priority_ranking = hypotheses[['hypothesis','ICE','RICE']]\n",
    "print('ICE priotization:')\n",
    "priority_ranking.sort_values('ICE',ascending=False)\n",
    "print('RICE priotization:')\n",
    "priority_ranking.sort_values('RICE',ascending=False)"
   ]
  },
  {
   "cell_type": "markdown",
   "metadata": {},
   "source": [
    "*****While ICE ranks hypotheses 8,0,7 and 6 on top RICE ranks 7,2,0 and 6. Hyphothesis 7 has the higher reach score therefore its no wonder that it would be the priority by RICE*****"
   ]
  },
  {
   "cell_type": "markdown",
   "metadata": {},
   "source": [
    "************************************\n",
    "************************************\n",
    "# Part 2. A/B Test Analysis \n",
    " - You carried out an A/B test and got the results described in the files orders_us.csv and visits_us.csv."
   ]
  },
  {
   "cell_type": "markdown",
   "metadata": {},
   "source": [
    "## 1. Graph cumulative revenue by group. Make conclusions and conjectures"
   ]
  },
  {
   "cell_type": "code",
   "execution_count": 87,
   "metadata": {},
   "outputs": [],
   "source": [
    "# building an array with unique paired date-group values \n",
    "datesGroups = orders[['date','group']].drop_duplicates()"
   ]
  },
  {
   "cell_type": "code",
   "execution_count": 88,
   "metadata": {},
   "outputs": [],
   "source": [
    "#orders aggregated\n",
    "ordersAggregated = datesGroups.apply(lambda x: orders[np.logical_and(orders['date'] <= x['date'],\n",
    "                                                                     orders['group'] == x['group'])].agg({'date' : 'max', 'group' : 'max', 'transaction_id' : pd.Series.nunique,\n",
    "                                                                                                          'visitor_id' : pd.Series.nunique, 'revenue' : 'sum'}), axis=1).sort_values(by=['date','group'])\n"
   ]
  },
  {
   "cell_type": "code",
   "execution_count": 89,
   "metadata": {},
   "outputs": [],
   "source": [
    "visitorsAggregated = datesGroups.apply(lambda x: visits[np.logical_and(visits['date'] <= x['date'],\n",
    "                                                                       visits['group'] == x['group'])].agg({'date' : 'max',\n",
    "                                                                                                            'group' : 'max',\n",
    "                                                                                                            'visits' : 'sum'}), axis=1).sort_values(by=['date','group'])\n"
   ]
  },
  {
   "cell_type": "code",
   "execution_count": 90,
   "metadata": {},
   "outputs": [],
   "source": [
    "# merging the two tables into one and giving its columns descriptive names\n",
    "cumulativeData = ordersAggregated.merge(visitorsAggregated, left_on=['date', 'group'], right_on=['date', 'group'])\n",
    "cumulativeData.columns = ['date', 'group', 'orders', 'buyers', 'revenue', 'visitors']"
   ]
  },
  {
   "cell_type": "code",
   "execution_count": 91,
   "metadata": {},
   "outputs": [
    {
     "data": {
      "text/html": [
       "<div>\n",
       "<style scoped>\n",
       "    .dataframe tbody tr th:only-of-type {\n",
       "        vertical-align: middle;\n",
       "    }\n",
       "\n",
       "    .dataframe tbody tr th {\n",
       "        vertical-align: top;\n",
       "    }\n",
       "\n",
       "    .dataframe thead th {\n",
       "        text-align: right;\n",
       "    }\n",
       "</style>\n",
       "<table border=\"1\" class=\"dataframe\">\n",
       "  <thead>\n",
       "    <tr style=\"text-align: right;\">\n",
       "      <th></th>\n",
       "      <th>date</th>\n",
       "      <th>revenue</th>\n",
       "      <th>orders</th>\n",
       "    </tr>\n",
       "  </thead>\n",
       "  <tbody>\n",
       "    <tr>\n",
       "      <th>0</th>\n",
       "      <td>2019-08-01</td>\n",
       "      <td>2266.6</td>\n",
       "      <td>23</td>\n",
       "    </tr>\n",
       "    <tr>\n",
       "      <th>2</th>\n",
       "      <td>2019-08-02</td>\n",
       "      <td>3734.9</td>\n",
       "      <td>42</td>\n",
       "    </tr>\n",
       "    <tr>\n",
       "      <th>4</th>\n",
       "      <td>2019-08-03</td>\n",
       "      <td>5550.1</td>\n",
       "      <td>66</td>\n",
       "    </tr>\n",
       "    <tr>\n",
       "      <th>6</th>\n",
       "      <td>2019-08-04</td>\n",
       "      <td>6225.6</td>\n",
       "      <td>77</td>\n",
       "    </tr>\n",
       "    <tr>\n",
       "      <th>8</th>\n",
       "      <td>2019-08-05</td>\n",
       "      <td>7623.6</td>\n",
       "      <td>99</td>\n",
       "    </tr>\n",
       "    <tr>\n",
       "      <th>10</th>\n",
       "      <td>2019-08-06</td>\n",
       "      <td>8292.0</td>\n",
       "      <td>114</td>\n",
       "    </tr>\n",
       "    <tr>\n",
       "      <th>12</th>\n",
       "      <td>2019-08-07</td>\n",
       "      <td>10234.0</td>\n",
       "      <td>130</td>\n",
       "    </tr>\n",
       "    <tr>\n",
       "      <th>14</th>\n",
       "      <td>2019-08-08</td>\n",
       "      <td>11638.8</td>\n",
       "      <td>144</td>\n",
       "    </tr>\n",
       "    <tr>\n",
       "      <th>16</th>\n",
       "      <td>2019-08-09</td>\n",
       "      <td>13734.0</td>\n",
       "      <td>155</td>\n",
       "    </tr>\n",
       "    <tr>\n",
       "      <th>18</th>\n",
       "      <td>2019-08-10</td>\n",
       "      <td>16121.5</td>\n",
       "      <td>170</td>\n",
       "    </tr>\n",
       "  </tbody>\n",
       "</table>\n",
       "</div>"
      ],
      "text/plain": [
       "         date  revenue  orders\n",
       "0  2019-08-01  2266.6   23    \n",
       "2  2019-08-02  3734.9   42    \n",
       "4  2019-08-03  5550.1   66    \n",
       "6  2019-08-04  6225.6   77    \n",
       "8  2019-08-05  7623.6   99    \n",
       "10 2019-08-06  8292.0   114   \n",
       "12 2019-08-07  10234.0  130   \n",
       "14 2019-08-08  11638.8  144   \n",
       "16 2019-08-09  13734.0  155   \n",
       "18 2019-08-10  16121.5  170   "
      ]
     },
     "execution_count": 91,
     "metadata": {},
     "output_type": "execute_result"
    }
   ],
   "source": [
    "cumulativeData[cumulativeData['group']=='A'][['date','revenue', 'orders']].head(10)"
   ]
  },
  {
   "cell_type": "code",
   "execution_count": 92,
   "metadata": {},
   "outputs": [
    {
     "name": "stderr",
     "output_type": "stream",
     "text": [
      "C:\\Users\\Thor 3\\Anaconda3\\lib\\site-packages\\matplotlib\\cbook\\__init__.py:1377: FutureWarning: Support for multi-dimensional indexing (e.g. `obj[:, None]`) is deprecated and will be removed in a future version.  Convert to a numpy array before indexing instead.\n",
      "  x[:, None]\n",
      "C:\\Users\\Thor 3\\Anaconda3\\lib\\site-packages\\matplotlib\\axes\\_base.py:237: FutureWarning: Support for multi-dimensional indexing (e.g. `obj[:, None]`) is deprecated and will be removed in a future version.  Convert to a numpy array before indexing instead.\n",
      "  x = x[:, np.newaxis]\n",
      "C:\\Users\\Thor 3\\Anaconda3\\lib\\site-packages\\matplotlib\\axes\\_base.py:239: FutureWarning: Support for multi-dimensional indexing (e.g. `obj[:, None]`) is deprecated and will be removed in a future version.  Convert to a numpy array before indexing instead.\n",
      "  y = y[:, np.newaxis]\n"
     ]
    },
    {
     "data": {
      "image/png": "[encoded data removed]",
      "text/plain": [
       "<Figure size 936x360 with 1 Axes>"
      ]
     },
     "metadata": {
      "needs_background": "light"
     },
     "output_type": "display_data"
    }
   ],
   "source": [
    "import matplotlib.pyplot as plt\n",
    "plt.figure(figsize=(13, 5))\n",
    "# DataFrame with cumulative orders and cumulative revenue by day, group A\n",
    "cumulativeRevenueA = cumulativeData[cumulativeData['group']=='A'][['date','revenue', 'orders']]\n",
    "\n",
    "# DataFrame with cumulative orders and cumulative revenue by day, group B\n",
    "cumulativeRevenueB = cumulativeData[cumulativeData['group']=='B'][['date','revenue', 'orders']]\n",
    "\n",
    "# Plotting the group A revenue graph \n",
    "plt.plot(cumulativeRevenueA['date'], cumulativeRevenueA['revenue'], label='A')\n",
    "\n",
    "# Plotting the group B revenue graph \n",
    "plt.plot(cumulativeRevenueB['date'], cumulativeRevenueB['revenue'], label='B')\n",
    "plt.title('Cumulative revenue graphs by day and A/B test')\n",
    "plt.ylabel('Cumulative Revenue')\n",
    "plt.xlabel('Date')\n",
    "plt.legend()\n",
    "plt.show();"
   ]
  },
  {
   "cell_type": "markdown",
   "metadata": {},
   "source": [
    "**Conclusion and Conjecture:**\n",
    "  - Revenue rises throuout the test in a steady way\n",
    "  - A spike in group B is an indication of either a very expensive orders a surge in the number of orders\n",
    "  - We'll have to do some oulier analysis"
   ]
  },
  {
   "cell_type": "markdown",
   "metadata": {},
   "source": [
    "<div class=\"alert alert-block alert-success\">\n",
    "\n",
    "<b>Reviewer's comment</b> <a class=\"tocSkip\"></a>\n",
    "\n",
    "Good\n",
    "    \n",
    "</div>"
   ]
  },
  {
   "cell_type": "markdown",
   "metadata": {},
   "source": [
    "## 2. Graph cumulative average order size by group. \n",
    "Make conclusions and conjectures"
   ]
  },
  {
   "cell_type": "code",
   "execution_count": 93,
   "metadata": {},
   "outputs": [
    {
     "data": {
      "image/png": "[encoded data removed]",
      "text/plain": [
       "<Figure size 936x360 with 1 Axes>"
      ]
     },
     "metadata": {
      "needs_background": "light"
     },
     "output_type": "display_data"
    }
   ],
   "source": [
    "plt.figure(figsize=(13, 5))\n",
    "plt.plot(cumulativeRevenueA['date'], cumulativeRevenueA['revenue']/cumulativeRevenueA['orders'], label='A')\n",
    "plt.plot(cumulativeRevenueB['date'], cumulativeRevenueB['revenue']/cumulativeRevenueB['orders'], label='B')\n",
    "plt.title('Cumulative  order size by group')\n",
    "plt.ylabel('Relative Cumulative  order size')\n",
    "plt.xlabel('Date')\n",
    "plt.legend()\n",
    "plt.show();"
   ]
  },
  {
   "cell_type": "markdown",
   "metadata": {},
   "source": [
    "**Conclusion and Conjecture:**\n",
    "  - By the end of the test both groups seem to stabilize . B running hiher than A but sliding in a almost paralel way\n",
    "  - The sudden jump in group B might indicate to large, expensive orders"
   ]
  },
  {
   "cell_type": "markdown",
   "metadata": {},
   "source": [
    "## 3. Graph the relative difference in cumulative average order size for group B compared with group A. \n",
    "Make conclusions and conjectures."
   ]
  },
  {
   "cell_type": "code",
   "execution_count": 94,
   "metadata": {},
   "outputs": [
    {
     "data": {
      "image/png": "[encoded data removed]",
      "text/plain": [
       "<Figure size 936x360 with 1 Axes>"
      ]
     },
     "metadata": {
      "needs_background": "light"
     },
     "output_type": "display_data"
    }
   ],
   "source": [
    "plt.figure(figsize=(13, 5))\n",
    "plt.title('Relative Difference in Cumulative Average Order')\n",
    "plt.ylabel('Relative size')\n",
    "plt.xlabel('Date')\n",
    "# gathering the data into one DataFrame\n",
    "mergedCumulativeRevenue = cumulativeRevenueA.merge(cumulativeRevenueB, left_on='date', right_on='date', how='left', suffixes=['A', 'B'])\n",
    "\n",
    "# plotting a relative difference graph for the average purchase sizes\n",
    "plt.plot(mergedCumulativeRevenue['date'], (mergedCumulativeRevenue['revenueB']/mergedCumulativeRevenue['ordersB'])/(mergedCumulativeRevenue['revenueA']/mergedCumulativeRevenue['ordersA'])-1)\n",
    "\n",
    "# adding the X axis\n",
    "plt.axhline(y=0, color='black', linestyle='--');"
   ]
  },
  {
   "cell_type": "markdown",
   "metadata": {},
   "source": [
    "**Conclusion and Conjecture:**\n",
    "  - The sudden upwards movement shows that that there are indeed some big orders and ouliers in Group B\n",
    "  - B starts very low in relation to A but then it moves up very quickly, we see that A surpases B for segment of time but then we see the sudden spike in B. This is when the outliers took place"
   ]
  },
  {
   "cell_type": "markdown",
   "metadata": {},
   "source": [
    "## 4. Calculate each group's conversion rate as the ratio of orders to the number of visits for each day. Plot the daily conversion rates of the two groups and describe the difference.\n",
    "Draw conclusions and make conjectures."
   ]
  },
  {
   "cell_type": "code",
   "execution_count": 95,
   "metadata": {},
   "outputs": [
    {
     "data": {
      "text/html": [
       "<div>\n",
       "<style scoped>\n",
       "    .dataframe tbody tr th:only-of-type {\n",
       "        vertical-align: middle;\n",
       "    }\n",
       "\n",
       "    .dataframe tbody tr th {\n",
       "        vertical-align: top;\n",
       "    }\n",
       "\n",
       "    .dataframe thead th {\n",
       "        text-align: right;\n",
       "    }\n",
       "</style>\n",
       "<table border=\"1\" class=\"dataframe\">\n",
       "  <thead>\n",
       "    <tr style=\"text-align: right;\">\n",
       "      <th></th>\n",
       "      <th>date</th>\n",
       "      <th>group</th>\n",
       "      <th>orders</th>\n",
       "      <th>buyers</th>\n",
       "      <th>revenue</th>\n",
       "      <th>visitors</th>\n",
       "    </tr>\n",
       "  </thead>\n",
       "  <tbody>\n",
       "    <tr>\n",
       "      <th>0</th>\n",
       "      <td>2019-08-01</td>\n",
       "      <td>A</td>\n",
       "      <td>23</td>\n",
       "      <td>19</td>\n",
       "      <td>2266.6</td>\n",
       "      <td>719</td>\n",
       "    </tr>\n",
       "    <tr>\n",
       "      <th>1</th>\n",
       "      <td>2019-08-01</td>\n",
       "      <td>B</td>\n",
       "      <td>17</td>\n",
       "      <td>17</td>\n",
       "      <td>967.2</td>\n",
       "      <td>713</td>\n",
       "    </tr>\n",
       "    <tr>\n",
       "      <th>2</th>\n",
       "      <td>2019-08-02</td>\n",
       "      <td>A</td>\n",
       "      <td>42</td>\n",
       "      <td>36</td>\n",
       "      <td>3734.9</td>\n",
       "      <td>1338</td>\n",
       "    </tr>\n",
       "    <tr>\n",
       "      <th>3</th>\n",
       "      <td>2019-08-02</td>\n",
       "      <td>B</td>\n",
       "      <td>40</td>\n",
       "      <td>39</td>\n",
       "      <td>3535.3</td>\n",
       "      <td>1294</td>\n",
       "    </tr>\n",
       "    <tr>\n",
       "      <th>4</th>\n",
       "      <td>2019-08-03</td>\n",
       "      <td>A</td>\n",
       "      <td>66</td>\n",
       "      <td>60</td>\n",
       "      <td>5550.1</td>\n",
       "      <td>1845</td>\n",
       "    </tr>\n",
       "    <tr>\n",
       "      <th>...</th>\n",
       "      <td>...</td>\n",
       "      <td>...</td>\n",
       "      <td>...</td>\n",
       "      <td>...</td>\n",
       "      <td>...</td>\n",
       "      <td>...</td>\n",
       "    </tr>\n",
       "    <tr>\n",
       "      <th>57</th>\n",
       "      <td>2019-08-29</td>\n",
       "      <td>B</td>\n",
       "      <td>510</td>\n",
       "      <td>490</td>\n",
       "      <td>74576.7</td>\n",
       "      <td>17708</td>\n",
       "    </tr>\n",
       "    <tr>\n",
       "      <th>58</th>\n",
       "      <td>2019-08-30</td>\n",
       "      <td>A</td>\n",
       "      <td>460</td>\n",
       "      <td>437</td>\n",
       "      <td>52363.7</td>\n",
       "      <td>18037</td>\n",
       "    </tr>\n",
       "    <tr>\n",
       "      <th>59</th>\n",
       "      <td>2019-08-30</td>\n",
       "      <td>B</td>\n",
       "      <td>531</td>\n",
       "      <td>511</td>\n",
       "      <td>77863.5</td>\n",
       "      <td>18198</td>\n",
       "    </tr>\n",
       "    <tr>\n",
       "      <th>60</th>\n",
       "      <td>2019-08-31</td>\n",
       "      <td>A</td>\n",
       "      <td>468</td>\n",
       "      <td>445</td>\n",
       "      <td>53212.0</td>\n",
       "      <td>18736</td>\n",
       "    </tr>\n",
       "    <tr>\n",
       "      <th>61</th>\n",
       "      <td>2019-08-31</td>\n",
       "      <td>B</td>\n",
       "      <td>548</td>\n",
       "      <td>528</td>\n",
       "      <td>79651.2</td>\n",
       "      <td>18916</td>\n",
       "    </tr>\n",
       "  </tbody>\n",
       "</table>\n",
       "<p>62 rows × 6 columns</p>\n",
       "</div>"
      ],
      "text/plain": [
       "         date group  orders  buyers  revenue  visitors\n",
       "0  2019-08-01  A     23      19      2266.6   719     \n",
       "1  2019-08-01  B     17      17      967.2    713     \n",
       "2  2019-08-02  A     42      36      3734.9   1338    \n",
       "3  2019-08-02  B     40      39      3535.3   1294    \n",
       "4  2019-08-03  A     66      60      5550.1   1845    \n",
       "..        ... ..     ..      ..         ...    ...    \n",
       "57 2019-08-29  B     510     490     74576.7  17708   \n",
       "58 2019-08-30  A     460     437     52363.7  18037   \n",
       "59 2019-08-30  B     531     511     77863.5  18198   \n",
       "60 2019-08-31  A     468     445     53212.0  18736   \n",
       "61 2019-08-31  B     548     528     79651.2  18916   \n",
       "\n",
       "[62 rows x 6 columns]"
      ]
     },
     "execution_count": 95,
     "metadata": {},
     "output_type": "execute_result"
    }
   ],
   "source": [
    "cumulativeData"
   ]
  },
  {
   "cell_type": "code",
   "execution_count": 96,
   "metadata": {},
   "outputs": [],
   "source": [
    "# calculating cumulative conversion\n",
    "cumulativeData['conversion'] = cumulativeData['orders']/cumulativeData['visitors']\n",
    "\n",
    "# selecting data on group A \n",
    "cumulativeDataA = cumulativeData[cumulativeData['group']=='A']\n",
    "\n",
    "# selecting data on group B\n",
    "cumulativeDataB = cumulativeData[cumulativeData['group']=='B']"
   ]
  },
  {
   "cell_type": "code",
   "execution_count": 97,
   "metadata": {},
   "outputs": [
    {
     "name": "stderr",
     "output_type": "stream",
     "text": [
      "C:\\Users\\Thor 3\\Anaconda3\\lib\\site-packages\\matplotlib\\cbook\\__init__.py:1377: FutureWarning: Support for multi-dimensional indexing (e.g. `obj[:, None]`) is deprecated and will be removed in a future version.  Convert to a numpy array before indexing instead.\n",
      "  x[:, None]\n",
      "C:\\Users\\Thor 3\\Anaconda3\\lib\\site-packages\\matplotlib\\axes\\_base.py:237: FutureWarning: Support for multi-dimensional indexing (e.g. `obj[:, None]`) is deprecated and will be removed in a future version.  Convert to a numpy array before indexing instead.\n",
      "  x = x[:, np.newaxis]\n",
      "C:\\Users\\Thor 3\\Anaconda3\\lib\\site-packages\\matplotlib\\axes\\_base.py:239: FutureWarning: Support for multi-dimensional indexing (e.g. `obj[:, None]`) is deprecated and will be removed in a future version.  Convert to a numpy array before indexing instead.\n",
      "  y = y[:, np.newaxis]\n"
     ]
    },
    {
     "data": {
      "image/png": "[encoded data removed]",
      "text/plain": [
       "<Figure size 936x360 with 1 Axes>"
      ]
     },
     "metadata": {
      "needs_background": "light"
     },
     "output_type": "display_data"
    }
   ],
   "source": [
    "# plotting the graphs\n",
    "plt.figure(figsize=(13, 5))\n",
    "plt.title('Cumulative daily conversion rate')\n",
    "plt.ylabel('Relative conversion rate')\n",
    "plt.xlabel('Date')\n",
    "plt.plot(cumulativeDataA['date'], cumulativeDataA['conversion'], label='A')\n",
    "plt.plot(cumulativeDataB['date'], cumulativeDataB['conversion'], label='B')\n",
    "plt.axis([cumulativeData['date'].min(), cumulativeData['date'].max(), 0, 0.040])\n",
    "plt.legend();\n",
    "plt.show();"
   ]
  },
  {
   "cell_type": "code",
   "execution_count": 98,
   "metadata": {},
   "outputs": [
    {
     "data": {
      "image/png": "[encoded data removed]",
      "text/plain": [
       "<Figure size 936x360 with 1 Axes>"
      ]
     },
     "metadata": {
      "needs_background": "light"
     },
     "output_type": "display_data"
    }
   ],
   "source": [
    "#Let's plot a relative difference graph for the cumulative conversion rates\n",
    "plt.figure(figsize=(13, 5))\n",
    "plt.title('relative difference for the cumulative conversion rates')\n",
    "plt.ylabel('Relative difference ')\n",
    "plt.xlabel('Date')\n",
    "\n",
    "mergedCumulativeConversions = cumulativeDataA[['date','conversion']].merge(cumulativeDataB[['date','conversion']], left_on='date', right_on='date', how='left', suffixes=['A', 'B'])\n",
    "\n",
    "plt.plot(mergedCumulativeConversions['date'], mergedCumulativeConversions['conversionB']/mergedCumulativeConversions['conversionA']-1)\n",
    "\n",
    "plt.axhline(y=0, color='black', linestyle='--');\n",
    "plt.axhline(y=0.1, color='grey', linestyle='--');\n",
    "plt.show();\n"
   ]
  },
  {
   "cell_type": "markdown",
   "metadata": {},
   "source": [
    "**Conclusion and Conjecture:**\n",
    "  - The groups  eventually fluctuate around the same value, but it took 5 days for the groups to stabilize.\n",
    "  - Looking   at the Cumulative daily conversion rate : at the begining group A rises more than B but then they flipped places and B stays higher than A and both stay like that\n",
    "  - Looking at the relative difference for the cumulative conversion rates we see that group B strugles at the begining and the fluctuates higher than A and we may say it stabilizes at aroun 0.1."
   ]
  },
  {
   "cell_type": "markdown",
   "metadata": {},
   "source": [
    "## 5. Plot a scatter chart of the number of orders per user. \n",
    "Make conclusions and conjectures."
   ]
  },
  {
   "cell_type": "code",
   "execution_count": 99,
   "metadata": {},
   "outputs": [
    {
     "data": {
      "text/plain": [
       "Index(['transaction_id', 'visitor_id', 'date', 'revenue', 'group'], dtype='object')"
      ]
     },
     "execution_count": 99,
     "metadata": {},
     "output_type": "execute_result"
    }
   ],
   "source": [
    "orders.columns"
   ]
  },
  {
   "cell_type": "code",
   "execution_count": 100,
   "metadata": {},
   "outputs": [],
   "source": [
    "ordersByUsers = (\n",
    "    orders.drop(['group', 'revenue', 'date'], axis=1)\n",
    "    .groupby('visitor_id', as_index=False)\n",
    "    .agg({'transaction_id': pd.Series.nunique})\n",
    ")\n",
    "\n",
    "ordersByUsers.columns = ['user_id', 'orders']"
   ]
  },
  {
   "cell_type": "code",
   "execution_count": 101,
   "metadata": {},
   "outputs": [
    {
     "data": {
      "text/html": [
       "<div>\n",
       "<style scoped>\n",
       "    .dataframe tbody tr th:only-of-type {\n",
       "        vertical-align: middle;\n",
       "    }\n",
       "\n",
       "    .dataframe tbody tr th {\n",
       "        vertical-align: top;\n",
       "    }\n",
       "\n",
       "    .dataframe thead th {\n",
       "        text-align: right;\n",
       "    }\n",
       "</style>\n",
       "<table border=\"1\" class=\"dataframe\">\n",
       "  <thead>\n",
       "    <tr style=\"text-align: right;\">\n",
       "      <th></th>\n",
       "      <th>user_id</th>\n",
       "      <th>orders</th>\n",
       "    </tr>\n",
       "  </thead>\n",
       "  <tbody>\n",
       "    <tr>\n",
       "      <th>908</th>\n",
       "      <td>3967698036</td>\n",
       "      <td>3</td>\n",
       "    </tr>\n",
       "    <tr>\n",
       "      <th>55</th>\n",
       "      <td>249864742</td>\n",
       "      <td>3</td>\n",
       "    </tr>\n",
       "    <tr>\n",
       "      <th>478</th>\n",
       "      <td>2108163459</td>\n",
       "      <td>3</td>\n",
       "    </tr>\n",
       "    <tr>\n",
       "      <th>687</th>\n",
       "      <td>2988190573</td>\n",
       "      <td>3</td>\n",
       "    </tr>\n",
       "    <tr>\n",
       "      <th>890</th>\n",
       "      <td>3908431265</td>\n",
       "      <td>3</td>\n",
       "    </tr>\n",
       "  </tbody>\n",
       "</table>\n",
       "</div>"
      ],
      "text/plain": [
       "        user_id  orders\n",
       "908  3967698036  3     \n",
       "55   249864742   3     \n",
       "478  2108163459  3     \n",
       "687  2988190573  3     \n",
       "890  3908431265  3     "
      ]
     },
     "execution_count": 101,
     "metadata": {},
     "output_type": "execute_result"
    }
   ],
   "source": [
    "ordersByUsers.sort_values(by='orders', ascending=False).head(5)"
   ]
  },
  {
   "cell_type": "code",
   "execution_count": 102,
   "metadata": {},
   "outputs": [
    {
     "data": {
      "image/png": "[encoded data removed]",
      "text/plain": [
       "<Figure size 936x360 with 1 Axes>"
      ]
     },
     "metadata": {
      "needs_background": "light"
     },
     "output_type": "display_data"
    }
   ],
   "source": [
    "plt.figure(figsize=(13, 5))\n",
    "plt.title('Orders per user')\n",
    "plt.ylabel('Number of orders')\n",
    "plt.xlabel('Order count')\n",
    "plt.hist(ordersByUsers['orders'])\n",
    "plt.show();"
   ]
  },
  {
   "cell_type": "code",
   "execution_count": 103,
   "metadata": {},
   "outputs": [
    {
     "data": {
      "image/png": "[encoded data removed]",
      "text/plain": [
       "<Figure size 936x360 with 1 Axes>"
      ]
     },
     "metadata": {
      "needs_background": "light"
     },
     "output_type": "display_data"
    }
   ],
   "source": [
    "plt.figure(figsize=(13, 5))\n",
    "plt.title('Orders per User')\n",
    "plt.ylabel('number of orders')\n",
    "plt.xlabel('x')\n",
    "x_values = pd.Series(range(0, len(ordersByUsers['orders'])))\n",
    "plt.scatter(x_values, ordersByUsers['orders'])\n",
    "plt.show();"
   ]
  },
  {
   "cell_type": "markdown",
   "metadata": {},
   "source": [
    "**Conclusion and Conjecture:**\n",
    "  - There are a lot of users with  more than 2 orders\n",
    "  - And a few really outstanding users with more than 10 orders \n",
    "  - We could set the limit between 2 and 4 , let see what the percentiles tell us"
   ]
  },
  {
   "cell_type": "markdown",
   "metadata": {},
   "source": [
    "## 6. Calculate the 95th and 99th percentiles for the number of orders per user. Define the point at which a data point becomes an anomaly"
   ]
  },
  {
   "cell_type": "code",
   "execution_count": 104,
   "metadata": {},
   "outputs": [],
   "source": [
    "percentiles = np.percentile(ordersByUsers['orders'], [90, 95, 99])"
   ]
  },
  {
   "cell_type": "code",
   "execution_count": 105,
   "metadata": {},
   "outputs": [
    {
     "name": "stdout",
     "output_type": "stream",
     "text": [
      "No more than 10% of users placed more than 1.00 orders,\n",
      "No more than 5% placed more than 1.00 orders,\n",
      "No more than 1% of users placed more than 2.00 orders\n"
     ]
    }
   ],
   "source": [
    "print('No more than 10% of users placed more than {:.2f} orders,\\nNo more than 5% placed more than {:.2f} orders,\\nNo more than 1% of users placed more than {:.2f} orders'.format(percentiles[0],percentiles[1],percentiles[2]))"
   ]
  },
  {
   "cell_type": "code",
   "execution_count": 106,
   "metadata": {},
   "outputs": [
    {
     "data": {
      "text/plain": [
       "user_id    7\n",
       "orders     7\n",
       "dtype: int64"
      ]
     },
     "execution_count": 106,
     "metadata": {},
     "output_type": "execute_result"
    }
   ],
   "source": [
    "ordersByUsers.query('orders > 2').count()"
   ]
  },
  {
   "cell_type": "markdown",
   "metadata": {},
   "source": [
    "**Conclusion and Conjecture:**\n",
    "  - We can set the limit **at 2  orders** per user to be the upper limit for the number of orders and act as the filter for the anomalies"
   ]
  },
  {
   "cell_type": "markdown",
   "metadata": {},
   "source": [
    "# 7. Plot a scatter chart of order prices.\n",
    "Make conclusions and conjectures"
   ]
  },
  {
   "cell_type": "code",
   "execution_count": 107,
   "metadata": {},
   "outputs": [
    {
     "data": {
      "text/plain": [
       "Index(['transaction_id', 'visitor_id', 'date', 'revenue', 'group'], dtype='object')"
      ]
     },
     "execution_count": 107,
     "metadata": {},
     "output_type": "execute_result"
    }
   ],
   "source": [
    "orders.columns"
   ]
  },
  {
   "cell_type": "code",
   "execution_count": 108,
   "metadata": {},
   "outputs": [
    {
     "data": {
      "image/png": "[encoded data removed]",
      "text/plain": [
       "<Figure size 936x360 with 1 Axes>"
      ]
     },
     "metadata": {
      "needs_background": "light"
     },
     "output_type": "display_data"
    }
   ],
   "source": [
    "plt.figure(figsize=(13, 5))\n",
    "plt.title('Orders - revenue distribution')\n",
    "plt.ylabel('Count')\n",
    "plt.xlabel('Order price')\n",
    "plt.hist(orders['revenue'],bins=15,log=True)\n",
    "plt.show();"
   ]
  },
  {
   "cell_type": "markdown",
   "metadata": {},
   "source": [
    " - Most of the orders are well below $2500\n",
    " - But we can not identify outliers here"
   ]
  },
  {
   "cell_type": "code",
   "execution_count": 109,
   "metadata": {},
   "outputs": [
    {
     "data": {
      "image/png": "[encoded data removed]",
      "text/plain": [
       "<Figure size 936x360 with 1 Axes>"
      ]
     },
     "metadata": {
      "needs_background": "light"
     },
     "output_type": "display_data"
    }
   ],
   "source": [
    "plt.figure(figsize=(13, 5))\n",
    "plt.title('Orders value')\n",
    "plt.ylabel('value of order')\n",
    "plt.xlabel('index')\n",
    "x_values = pd.Series(range(0, len(orders['revenue'])))\n",
    "plt.scatter(x_values, orders['revenue'])\n",
    "plt.show();"
   ]
  },
  {
   "cell_type": "code",
   "execution_count": 110,
   "metadata": {
    "scrolled": true
   },
   "outputs": [
    {
     "data": {
      "text/html": [
       "<div>\n",
       "<style scoped>\n",
       "    .dataframe tbody tr th:only-of-type {\n",
       "        vertical-align: middle;\n",
       "    }\n",
       "\n",
       "    .dataframe tbody tr th {\n",
       "        vertical-align: top;\n",
       "    }\n",
       "\n",
       "    .dataframe thead th {\n",
       "        text-align: right;\n",
       "    }\n",
       "</style>\n",
       "<table border=\"1\" class=\"dataframe\">\n",
       "  <thead>\n",
       "    <tr style=\"text-align: right;\">\n",
       "      <th></th>\n",
       "      <th>revenue</th>\n",
       "    </tr>\n",
       "  </thead>\n",
       "  <tbody>\n",
       "    <tr>\n",
       "      <th>425</th>\n",
       "      <td>19920.4</td>\n",
       "    </tr>\n",
       "    <tr>\n",
       "      <th>1196</th>\n",
       "      <td>3120.1</td>\n",
       "    </tr>\n",
       "    <tr>\n",
       "      <th>1136</th>\n",
       "      <td>1425.8</td>\n",
       "    </tr>\n",
       "    <tr>\n",
       "      <th>744</th>\n",
       "      <td>1335.6</td>\n",
       "    </tr>\n",
       "    <tr>\n",
       "      <th>743</th>\n",
       "      <td>1050.0</td>\n",
       "    </tr>\n",
       "  </tbody>\n",
       "</table>\n",
       "</div>"
      ],
      "text/plain": [
       "      revenue\n",
       "425   19920.4\n",
       "1196  3120.1 \n",
       "1136  1425.8 \n",
       "744   1335.6 \n",
       "743   1050.0 "
      ]
     },
     "execution_count": 110,
     "metadata": {},
     "output_type": "execute_result"
    }
   ],
   "source": [
    "series_df = pd.DataFrame(orders['revenue'])\n",
    "series_df.sort_values(by='revenue',ascending=False).head()"
   ]
  },
  {
   "cell_type": "code",
   "execution_count": 111,
   "metadata": {},
   "outputs": [
    {
     "data": {
      "image/png": "[encoded data removed]",
      "text/plain": [
       "<Figure size 936x360 with 1 Axes>"
      ]
     },
     "metadata": {
      "needs_background": "light"
     },
     "output_type": "display_data"
    }
   ],
   "source": [
    "orders_revenue_filtered =  orders[orders['revenue']<2500]\n",
    "\n",
    "plt.figure(figsize=(13, 5))\n",
    "plt.title('Orders Price')\n",
    "plt.ylabel('value of order')\n",
    "plt.xlabel('index')\n",
    "x_values2 = pd.Series(range(0, len(orders_revenue_filtered['revenue'])))\n",
    "plt.scatter(x_values2, orders_revenue_filtered['revenue'],alpha=0.6)\n",
    "plt.show();"
   ]
  },
  {
   "cell_type": "markdown",
   "metadata": {},
   "source": [
    "**Conclusion and Conjecture:**\n",
    "  - by looking at the revenue or order value distribution we cannot see the ouliers\n",
    "  - but looking at the order value per users we identify 2 outliers one at \\\\$20,000 and another at \\\\$2,500\n",
    "  - we can set the limit at around \\\\$2,500"
   ]
  },
  {
   "cell_type": "markdown",
   "metadata": {},
   "source": [
    "## 8. Calculate the 95th and 99th percentiles of order prices. Define the point at which a data point becomes an anomaly."
   ]
  },
  {
   "cell_type": "code",
   "execution_count": 112,
   "metadata": {},
   "outputs": [],
   "source": [
    "percentiles = np.percentile(orders['revenue'], [90, 95, 99])"
   ]
  },
  {
   "cell_type": "code",
   "execution_count": 113,
   "metadata": {},
   "outputs": [
    {
     "name": "stdout",
     "output_type": "stream",
     "text": [
      "No more of 10% of orders are over 280.80,\n",
      "No more of 5% of orders are over 414.27,\n",
      "1% of orders are over 830.30\n"
     ]
    }
   ],
   "source": [
    "print('No more of 10% of orders are over {:.2f},\\nNo more of 5% of orders are over {:.2f},\\n1% of orders are over {:.2f}'.format(percentiles[0],percentiles[1],percentiles[2]))"
   ]
  },
  {
   "cell_type": "code",
   "execution_count": 114,
   "metadata": {},
   "outputs": [
    {
     "data": {
      "text/plain": [
       "transaction_id    48\n",
       "visitor_id        48\n",
       "date              48\n",
       "revenue           48\n",
       "group             48\n",
       "dtype: int64"
      ]
     },
     "execution_count": 114,
     "metadata": {},
     "output_type": "execute_result"
    }
   ],
   "source": [
    "orders.query('revenue > 435.54').count()"
   ]
  },
  {
   "cell_type": "markdown",
   "metadata": {},
   "source": [
    "**Conclusion and Conjecture:**\n",
    "  - As we see that the order's revenue is mostly concentrated we can set the define the anomaly point at \\\\$435.54 to be the filter for the order price "
   ]
  },
  {
   "cell_type": "markdown",
   "metadata": {},
   "source": [
    "# 9. Find the statistical significance of the difference in conversion between the groups using the raw data. \n",
    "Make conclusions and conjectures."
   ]
  },
  {
   "cell_type": "code",
   "execution_count": 115,
   "metadata": {},
   "outputs": [
    {
     "name": "stdout",
     "output_type": "stream",
     "text": [
      "We use the Wilcoxon-Mann-Whitney test to compare two samples and conclude if the probability \n",
      "of the distributions of the two samples differ\n",
      "\n",
      "H0: Proportions of visits and orders are equal for both groups\n",
      "H1: Proportions of visits and orders are NOT equal for both groups\n",
      "\n",
      "the Wilcoxon-Mann-Whitney criterion or p_value = 0.006\n",
      "Null hypothesis rejected\n",
      "The relative gain of group B is 0.160 or 16.0%\n"
     ]
    }
   ],
   "source": [
    "ordersByUsersA = orders[orders['group']=='A'].groupby('visitor_id', as_index=False).agg({'transaction_id' : pd.Series.nunique})\n",
    "ordersByUsersA.columns = ['user_id', 'orders']\n",
    "\n",
    "ordersByUsersB = orders[orders['group']=='B'].groupby('visitor_id', as_index=False).agg({'transaction_id' : pd.Series.nunique})\n",
    "ordersByUsersB.columns = ['user_id', 'orders']\n",
    "\n",
    "sampleA = pd.concat([ordersByUsersA['orders'],pd.Series(0, index=np.arange(visits[visits['group']=='A']['visits'].sum() - len(ordersByUsersA['orders'])), name='orders')],axis=0)\n",
    "\n",
    "sampleB = pd.concat([ordersByUsersB['orders'],pd.Series(0, index=np.arange(visits[visits['group']=='B']['visits'].sum() - len(ordersByUsersB['orders'])), name='orders')],axis=0)\n",
    "\n",
    "alpha = 0.05\n",
    "raw_conversion_results = stats.mannwhitneyu(sampleA, sampleB)[1]\n",
    "raw_rel_diff_conversion = sampleB.mean()/sampleA.mean()-1\n",
    "\n",
    "print('We use the Wilcoxon-Mann-Whitney test to compare two samples and conclude if the probability \\nof the distributions of the two samples differ')\n",
    "\n",
    "print('\\nH0: Proportions of visits and orders are equal for both groups')\n",
    "print('H1: Proportions of visits and orders are NOT equal for both groups')\n",
    "\n",
    "print(\"\\nthe Wilcoxon-Mann-Whitney criterion or p_value = {0:.3f}\".format(raw_conversion_results))\n",
    "\n",
    "if (raw_conversion_results < alpha):\n",
    "    print(\"Null hypothesis rejected\")\n",
    "else:\n",
    "    print(\"We can't reject the null hypothesis\")   \n",
    "\n",
    "print(\"The relative gain of group B is {0:.3f} or {0:.1%}\".format(raw_rel_diff_conversion))"
   ]
  },
  {
   "cell_type": "code",
   "execution_count": 116,
   "metadata": {},
   "outputs": [
    {
     "data": {
      "text/plain": [
       "0        1\n",
       "1        1\n",
       "2        1\n",
       "3        1\n",
       "4        1\n",
       "        ..\n",
       "18286    0\n",
       "18287    0\n",
       "18288    0\n",
       "18289    0\n",
       "18290    0\n",
       "Name: orders, Length: 18736, dtype: int64"
      ]
     },
     "execution_count": 116,
     "metadata": {},
     "output_type": "execute_result"
    }
   ],
   "source": [
    "sampleA"
   ]
  },
  {
   "cell_type": "markdown",
   "metadata": {},
   "source": [
    "**Conclusion:**\n",
    " - With the raw data and knowing that we have siginificant outliers in the data we would suspect that that they influence the statistical difference in conversion between groups.\n",
    " - The statistical difference is such that we **reject** the hypothesis that the groups are the same"
   ]
  },
  {
   "cell_type": "markdown",
   "metadata": {},
   "source": [
    "## 10. Find the statistical significance of the difference in average order size between the groups using the raw data. \n",
    "Make conclusions and conjectures."
   ]
  },
  {
   "cell_type": "code",
   "execution_count": 117,
   "metadata": {},
   "outputs": [
    {
     "data": {
      "text/plain": [
       "(Index(['transaction_id', 'visitor_id', 'date', 'revenue', 'group'], dtype='object'),\n",
       " Index(['date', 'group', 'visits'], dtype='object'))"
      ]
     },
     "execution_count": 117,
     "metadata": {},
     "output_type": "execute_result"
    }
   ],
   "source": [
    "orders.columns, visits.columns"
   ]
  },
  {
   "cell_type": "code",
   "execution_count": 118,
   "metadata": {},
   "outputs": [],
   "source": [
    "sizeA = orders[orders['group']=='A']['revenue']\n",
    "sizeB = orders[orders['group']=='B']['revenue']"
   ]
  },
  {
   "cell_type": "code",
   "execution_count": null,
   "metadata": {},
   "outputs": [],
   "source": []
  },
  {
   "cell_type": "code",
   "execution_count": 119,
   "metadata": {},
   "outputs": [
    {
     "name": "stdout",
     "output_type": "stream",
     "text": [
      "\n",
      "H0: Proportions of visits and orders are equal for both groups\n",
      "H1: Proportions of visits and orders are NOT equal for both groups\n",
      "\n",
      "the Wilcoxon-Mann-Whitney criterion or p_value = 0.431\n",
      "We can't reject the null hypothesis\n",
      "The relative average order size of group B is 0.278 or 27.8%\n"
     ]
    }
   ],
   "source": [
    "sizeA = orders[orders['group']=='A']['revenue']\n",
    "sizeB = orders[orders['group']=='B']['revenue']\n",
    "\n",
    "alpha = 0.05\n",
    "raw_order_size_results = stats.mannwhitneyu(sizeA, sizeB)[1]\n",
    "raw_rel_avg_size = sizeB.mean()/sizeA.mean()-1\n",
    "\n",
    "print('\\nH0: Proportions of visits and orders are equal for both groups')\n",
    "print('H1: Proportions of visits and orders are NOT equal for both groups')\n",
    "\n",
    "print(\"\\nthe Wilcoxon-Mann-Whitney criterion or p_value = {0:.3f}\".format(raw_order_size_results))\n",
    "\n",
    "if (raw_order_size_results < alpha):\n",
    "    print(\"Null hypothesis rejected\")\n",
    "else:\n",
    "    print(\"We can't reject the null hypothesis\")  \n",
    "\n",
    "print(\"The relative average order size of group B is {0:.3f} or {0:.1%}\".format(raw_rel_avg_size))\n"
   ]
  },
  {
   "cell_type": "markdown",
   "metadata": {},
   "source": [
    "**Conclusion:**\n",
    "  - The statistical difference is such that we **can't** reject the hypothesis that the groups are the same.\n",
    "  - The average order for group B is bigger than the one from group A by significant 27.8%"
   ]
  },
  {
   "cell_type": "markdown",
   "metadata": {},
   "source": [
    "# 11. Find the statistical significance of the difference in conversion between the groups using the filtered data.\n",
    "Make conclusions and conjectures."
   ]
  },
  {
   "cell_type": "markdown",
   "metadata": {},
   "source": [
    "Let's define anomalous users as those who place more than 2 orders or one order bigger than \\\\$435.54\n",
    "That way we remove the 5\\% of users with too many orders and also remove the 5\\% of users with the most expensive orders"
   ]
  },
  {
   "cell_type": "code",
   "execution_count": 120,
   "metadata": {},
   "outputs": [
    {
     "name": "stdout",
     "output_type": "stream",
     "text": [
      "There are 55 anomalous users in the data set \n"
     ]
    }
   ],
   "source": [
    "orders_lim = 2\n",
    "price_lim = 435.54\n",
    "\n",
    "usersWithManyOrders = pd.concat([ordersByUsersA[ordersByUsersA['orders'] > orders_lim]['user_id'], ordersByUsersB[ordersByUsersB['orders'] > orders_lim]['user_id']], axis = 0)\n",
    "usersWithExpensiveOrders = orders[orders['revenue'] > price_lim]['visitor_id']\n",
    "abnormalUsers = pd.concat([usersWithManyOrders, usersWithExpensiveOrders], axis = 0).drop_duplicates().sort_values()\n",
    "\n",
    "print('There are {:} anomalous users in the data set '.format(abnormalUsers.shape[0]))"
   ]
  },
  {
   "cell_type": "markdown",
   "metadata": {},
   "source": [
    "We'll prepare samples of the number of orders per user for each test group"
   ]
  },
  {
   "cell_type": "code",
   "execution_count": 121,
   "metadata": {},
   "outputs": [],
   "source": [
    "sampleAFiltered = pd.concat([ordersByUsersA[np.logical_not(ordersByUsersA['user_id'].isin(abnormalUsers))]['orders'],\n",
    "                             pd.Series(0, index=np.arange(visits[visits['group']=='A']['visits'].sum() - len(ordersByUsersA['orders'])),name='orders')],axis=0)\n",
    "\n",
    "sampleBFiltered = pd.concat([ordersByUsersB[np.logical_not(ordersByUsersB['user_id'].isin(abnormalUsers))]['orders'],\n",
    "                             pd.Series(0, index=np.arange(visits[visits['group']=='B']['visits'].sum() - len(ordersByUsersB['orders'])),name='orders')],axis=0)"
   ]
  },
  {
   "cell_type": "markdown",
   "metadata": {},
   "source": [
    "Applying the statistical Mann-Whitney criterion"
   ]
  },
  {
   "cell_type": "code",
   "execution_count": 122,
   "metadata": {},
   "outputs": [
    {
     "name": "stdout",
     "output_type": "stream",
     "text": [
      "The RAW data p_value is 0.006, while for the Filtered data is 0.005\n",
      "The RAW data relative gain is 0.160, while for the the Filtered is 0.189\n"
     ]
    }
   ],
   "source": [
    "flitered_conversion_results = stats.mannwhitneyu(sampleAFiltered, sampleBFiltered)[1]\n",
    "flitered_relative_conversion  = (sampleBFiltered.mean()/sampleAFiltered.mean()-1)\n",
    "#raw_conversion_results , raw_rel_diff_conversion\n",
    "\n",
    "print(\"The RAW data p_value is {0:.3f}, while for the Filtered data is {1:.3f}\".format(raw_conversion_results,flitered_conversion_results))\n",
    "print(\"The RAW data relative gain is {0:.3f}, while for the the Filtered is {1:.3f}\".format(raw_rel_diff_conversion,flitered_relative_conversion))"
   ]
  },
  {
   "cell_type": "markdown",
   "metadata": {},
   "source": [
    "**Conclusion:**\n",
    "  - Filtered data p_value = 0.005 which is smaller than 0.05 ==> We reject the Null hypotheses that the groups are equal\n",
    "  - The change in  conversion results was very very small\n",
    "  - Filtered relative gain is 18.9%  vs 16% from the raw one\n",
    "  - Our test tell us that the groups do have differences between them. \n"
   ]
  },
  {
   "cell_type": "markdown",
   "metadata": {},
   "source": [
    "# 12. Find the statistical significance of the difference in average order size between the groups using the filtered data.\n",
    "Make conclusions and conjectures."
   ]
  },
  {
   "cell_type": "code",
   "execution_count": 123,
   "metadata": {},
   "outputs": [
    {
     "name": "stdout",
     "output_type": "stream",
     "text": [
      "The RAW data avg order size p_value is 0.431, while the Filtered is 0.399\n",
      "The RAW data avg order size relative conversion is 0.278, while the Filtered is -0.022\n"
     ]
    }
   ],
   "source": [
    "#raw_order_size_results ,raw_rel_avg_size \n",
    "\n",
    "filtered_order_size_results = (stats.mannwhitneyu(\n",
    "    orders[np.logical_and(orders['group']=='A',\n",
    "                          np.logical_not(orders['visitor_id'].isin(abnormalUsers)))]['revenue'],\n",
    "                          orders[np.logical_and(orders['group']=='B',\n",
    "                          np.logical_not(orders['visitor_id'].isin(abnormalUsers)))]['revenue'])[1])\n",
    "\n",
    "filtered_rel_order_size = (\n",
    "    orders[np.logical_and(orders['group']=='B',np.logical_not(orders['visitor_id'].isin(abnormalUsers)))]['revenue'].mean()/\n",
    "    orders[np.logical_and(\n",
    "        orders['group']=='A',\n",
    "        np.logical_not(orders['visitor_id'].isin(abnormalUsers)))]['revenue'].mean() - 1)\n",
    "\n",
    "\n",
    "print(\"The RAW data avg order size p_value is {0:.3f}, while the Filtered is {1:.3f}\".format(raw_order_size_results,filtered_order_size_results))\n",
    "print(\"The RAW data avg order size relative conversion is {0:.3f}, while the Filtered is {1:.3f}\".format(raw_rel_avg_size,filtered_rel_order_size))"
   ]
  },
  {
   "cell_type": "markdown",
   "metadata": {},
   "source": [
    "**Conclusion:**\n",
    " - The filtered p_value is 0.399 which is bigger tha 0.05 and therefore we still cant't reject the null hypotheses that the groups have a significant statistical difference\n",
    " - The avg order size for the filtered group B is smaller that group A which means that group A leads here\n",
    " - By removing the anomalies we see how group A actually performs better even by a bit : 2%. "
   ]
  },
  {
   "cell_type": "markdown",
   "metadata": {},
   "source": [
    "# 13. Make a decision based on the test results. The possible decisions are:\n",
    "1. Stop the test, consider one of the groups the leader. \n",
    "2. Stop the test, conclude that there is no difference between the groups.\n",
    "3. Continue the test."
   ]
  },
  {
   "cell_type": "markdown",
   "metadata": {},
   "source": [
    "### **Summary:**\n",
    "  - By Raw data:\n",
    "      - Group B has a higher cumulative revenue , higher cumulative avg order size and much better conversion rate\n",
    "      - While looking for anomalies I found out that users with more than 2 orders with a price of \\$435.54 may be considered outliers\n",
    "      - By testing the relative gain for conversion rate group B is 16\\% higher than A\n",
    "      - For the significance of the difference in avg order size the p_value is 0.431 (we cant reject the null hypotheses),therefore the we can't conclude that the order size differ between A and B\n",
    "      - For the relative gain by avg order size group B is 27\\% better than A\n",
    "       \n",
    "  - By Filtered Data:\n",
    "     - I filtered our 55 users as outliers\n",
    "     - By testing the relative gain for conversion rate group B is 18.9\\% higher than A\n",
    "     - For the significance of the difference in avg order size the p_value is 0.399 (we cant reject the null hypotheses),therefore **still**  can't conclude that the order size differ between A and B\n",
    "     - For the relative gain by avg order size group B is 2\\% worse than A\n",
    "     \n",
    "### **Conclusions:**\n",
    " - After removing the ouliers we see how group A's relative gain by avg order size is better than B's.\n",
    " - But we still can't conclude that A and B differ by avg order size(per the p_values)\n",
    " - The relative gain for conversion rate is much better for Group B in the Raw and Filtered data analysis.\n",
    " - If we consider the conversion rate to be important then we can consider this test a success since Group B performs much better \n",
    "  \n",
    "\n"
   ]
  },
  {
   "cell_type": "code",
   "execution_count": 124,
   "metadata": {},
   "outputs": [
    {
     "name": "stdout",
     "output_type": "stream",
     "text": [
      "done\n"
     ]
    }
   ],
   "source": [
    "print('done')"
   ]
  },
  {
   "cell_type": "code",
   "execution_count": null,
   "metadata": {},
   "outputs": [],
   "source": []
  }
 ],
 "metadata": {
  "ExecuteTimeLog": [
   {
    "duration": 46,
    "start_time": "2022-04-05T17:08:44.371Z"
   },
   {
    "duration": 1423,
    "start_time": "2022-04-05T17:08:48.997Z"
   },
   {
    "duration": 274,
    "start_time": "2022-04-05T17:08:50.422Z"
   },
   {
    "duration": 9,
    "start_time": "2022-04-05T17:08:50.698Z"
   },
   {
    "duration": 15,
    "start_time": "2022-04-05T17:08:50.709Z"
   },
   {
    "duration": 9,
    "start_time": "2022-04-05T17:08:50.725Z"
   },
   {
    "duration": 18,
    "start_time": "2022-04-05T17:08:50.736Z"
   },
   {
    "duration": 8,
    "start_time": "2022-04-05T17:08:50.756Z"
   },
   {
    "duration": 6,
    "start_time": "2022-04-05T17:08:50.765Z"
   },
   {
    "duration": 5,
    "start_time": "2022-04-05T17:08:50.773Z"
   },
   {
    "duration": 6,
    "start_time": "2022-04-05T17:08:50.780Z"
   },
   {
    "duration": 5,
    "start_time": "2022-04-05T17:08:50.787Z"
   },
   {
    "duration": 6,
    "start_time": "2022-04-05T17:08:50.793Z"
   },
   {
    "duration": 9,
    "start_time": "2022-04-05T17:08:50.833Z"
   },
   {
    "duration": 2001,
    "start_time": "2022-04-05T17:08:50.843Z"
   },
   {
    "duration": 0,
    "start_time": "2022-04-05T17:08:52.847Z"
   },
   {
    "duration": 0,
    "start_time": "2022-04-05T17:08:52.848Z"
   },
   {
    "duration": 0,
    "start_time": "2022-04-05T17:08:52.849Z"
   },
   {
    "duration": 0,
    "start_time": "2022-04-05T17:08:52.851Z"
   },
   {
    "duration": 0,
    "start_time": "2022-04-05T17:08:52.851Z"
   },
   {
    "duration": 0,
    "start_time": "2022-04-05T17:08:52.852Z"
   },
   {
    "duration": 0,
    "start_time": "2022-04-05T17:08:52.854Z"
   },
   {
    "duration": 0,
    "start_time": "2022-04-05T17:08:52.855Z"
   },
   {
    "duration": 0,
    "start_time": "2022-04-05T17:08:52.856Z"
   },
   {
    "duration": 0,
    "start_time": "2022-04-05T17:08:52.857Z"
   },
   {
    "duration": 0,
    "start_time": "2022-04-05T17:08:52.858Z"
   },
   {
    "duration": 0,
    "start_time": "2022-04-05T17:08:52.859Z"
   },
   {
    "duration": 0,
    "start_time": "2022-04-05T17:08:52.860Z"
   },
   {
    "duration": 0,
    "start_time": "2022-04-05T17:08:52.861Z"
   },
   {
    "duration": 0,
    "start_time": "2022-04-05T17:08:52.862Z"
   },
   {
    "duration": 0,
    "start_time": "2022-04-05T17:08:52.863Z"
   },
   {
    "duration": 0,
    "start_time": "2022-04-05T17:08:52.864Z"
   },
   {
    "duration": 0,
    "start_time": "2022-04-05T17:08:52.865Z"
   },
   {
    "duration": 0,
    "start_time": "2022-04-05T17:08:52.866Z"
   },
   {
    "duration": 0,
    "start_time": "2022-04-05T17:08:52.867Z"
   },
   {
    "duration": 0,
    "start_time": "2022-04-05T17:08:52.868Z"
   },
   {
    "duration": 0,
    "start_time": "2022-04-05T17:08:52.869Z"
   },
   {
    "duration": 0,
    "start_time": "2022-04-05T17:08:52.870Z"
   },
   {
    "duration": 0,
    "start_time": "2022-04-05T17:08:52.871Z"
   },
   {
    "duration": 0,
    "start_time": "2022-04-05T17:08:52.872Z"
   },
   {
    "duration": 0,
    "start_time": "2022-04-05T17:08:52.874Z"
   },
   {
    "duration": 0,
    "start_time": "2022-04-05T17:08:52.875Z"
   },
   {
    "duration": 0,
    "start_time": "2022-04-05T17:08:52.876Z"
   },
   {
    "duration": 0,
    "start_time": "2022-04-05T17:08:52.877Z"
   },
   {
    "duration": 0,
    "start_time": "2022-04-05T17:08:52.878Z"
   },
   {
    "duration": 0,
    "start_time": "2022-04-05T17:08:52.879Z"
   },
   {
    "duration": 0,
    "start_time": "2022-04-05T17:08:52.880Z"
   },
   {
    "duration": 0,
    "start_time": "2022-04-05T17:08:52.881Z"
   },
   {
    "duration": 0,
    "start_time": "2022-04-05T17:08:52.932Z"
   },
   {
    "duration": 0,
    "start_time": "2022-04-05T17:08:52.934Z"
   },
   {
    "duration": 0,
    "start_time": "2022-04-05T17:08:52.935Z"
   },
   {
    "duration": 0,
    "start_time": "2022-04-05T17:08:52.936Z"
   },
   {
    "duration": 1252,
    "start_time": "2022-04-05T17:10:42.816Z"
   },
   {
    "duration": 186,
    "start_time": "2022-04-05T17:10:44.070Z"
   },
   {
    "duration": 9,
    "start_time": "2022-04-05T17:10:44.258Z"
   },
   {
    "duration": 14,
    "start_time": "2022-04-05T17:10:44.270Z"
   },
   {
    "duration": 9,
    "start_time": "2022-04-05T17:10:44.286Z"
   },
   {
    "duration": 21,
    "start_time": "2022-04-05T17:10:44.297Z"
   },
   {
    "duration": 15,
    "start_time": "2022-04-05T17:10:44.320Z"
   },
   {
    "duration": 4,
    "start_time": "2022-04-05T17:10:44.337Z"
   },
   {
    "duration": 5,
    "start_time": "2022-04-05T17:10:44.342Z"
   },
   {
    "duration": 5,
    "start_time": "2022-04-05T17:10:44.350Z"
   },
   {
    "duration": 4,
    "start_time": "2022-04-05T17:10:44.356Z"
   },
   {
    "duration": 5,
    "start_time": "2022-04-05T17:10:44.362Z"
   },
   {
    "duration": 10,
    "start_time": "2022-04-05T17:10:44.369Z"
   },
   {
    "duration": 5,
    "start_time": "2022-04-05T17:10:44.380Z"
   },
   {
    "duration": 46,
    "start_time": "2022-04-05T17:10:44.387Z"
   },
   {
    "duration": 4,
    "start_time": "2022-04-05T17:10:44.435Z"
   },
   {
    "duration": 11,
    "start_time": "2022-04-05T17:10:44.441Z"
   },
   {
    "duration": 18,
    "start_time": "2022-04-05T17:10:44.454Z"
   },
   {
    "duration": 6,
    "start_time": "2022-04-05T17:10:44.474Z"
   },
   {
    "duration": 221,
    "start_time": "2022-04-05T17:10:44.482Z"
   },
   {
    "duration": 123,
    "start_time": "2022-04-05T17:10:44.705Z"
   },
   {
    "duration": 8,
    "start_time": "2022-04-05T17:10:44.829Z"
   },
   {
    "duration": 15,
    "start_time": "2022-04-05T17:10:44.838Z"
   },
   {
    "duration": 272,
    "start_time": "2022-04-05T17:10:44.854Z"
   },
   {
    "duration": 184,
    "start_time": "2022-04-05T17:10:45.127Z"
   },
   {
    "duration": 334,
    "start_time": "2022-04-05T17:10:45.313Z"
   },
   {
    "duration": 7,
    "start_time": "2022-04-05T17:10:45.648Z"
   },
   {
    "duration": 197,
    "start_time": "2022-04-05T17:10:45.658Z"
   },
   {
    "duration": 280,
    "start_time": "2022-04-05T17:10:45.856Z"
   },
   {
    "duration": 4,
    "start_time": "2022-04-05T17:10:46.138Z"
   },
   {
    "duration": 120,
    "start_time": "2022-04-05T17:10:46.144Z"
   },
   {
    "duration": 7,
    "start_time": "2022-04-05T17:10:46.266Z"
   },
   {
    "duration": 133,
    "start_time": "2022-04-05T17:10:46.275Z"
   },
   {
    "duration": 210,
    "start_time": "2022-04-05T17:10:46.410Z"
   },
   {
    "duration": 3,
    "start_time": "2022-04-05T17:10:46.622Z"
   },
   {
    "duration": 3,
    "start_time": "2022-04-05T17:10:46.633Z"
   },
   {
    "duration": 9,
    "start_time": "2022-04-05T17:10:46.638Z"
   },
   {
    "duration": 6,
    "start_time": "2022-04-05T17:10:46.648Z"
   },
   {
    "duration": 166,
    "start_time": "2022-04-05T17:10:46.656Z"
   },
   {
    "duration": 143,
    "start_time": "2022-04-05T17:10:46.824Z"
   },
   {
    "duration": 3,
    "start_time": "2022-04-05T17:10:46.968Z"
   },
   {
    "duration": 5,
    "start_time": "2022-04-05T17:10:46.973Z"
   },
   {
    "duration": 10,
    "start_time": "2022-04-05T17:10:46.979Z"
   },
   {
    "duration": 164,
    "start_time": "2022-04-05T17:10:46.991Z"
   },
   {
    "duration": 4,
    "start_time": "2022-04-05T17:10:47.157Z"
   },
   {
    "duration": 10,
    "start_time": "2022-04-05T17:10:47.162Z"
   },
   {
    "duration": 8,
    "start_time": "2022-04-05T17:10:47.174Z"
   },
   {
    "duration": 9,
    "start_time": "2022-04-05T17:10:47.183Z"
   },
   {
    "duration": 50,
    "start_time": "2022-04-05T17:10:47.193Z"
   },
   {
    "duration": 13,
    "start_time": "2022-04-05T17:10:47.244Z"
   },
   {
    "duration": 295,
    "start_time": "2022-04-05T17:10:47.259Z"
   },
   {
    "duration": 300,
    "start_time": "2022-04-05T17:20:16.577Z"
   },
   {
    "duration": 1498,
    "start_time": "2022-04-06T10:19:48.700Z"
   },
   {
    "duration": 192,
    "start_time": "2022-04-06T10:19:50.200Z"
   },
   {
    "duration": 41,
    "start_time": "2022-04-06T10:19:50.394Z"
   },
   {
    "duration": 17,
    "start_time": "2022-04-06T10:19:50.437Z"
   },
   {
    "duration": 27,
    "start_time": "2022-04-06T10:19:50.457Z"
   },
   {
    "duration": 30,
    "start_time": "2022-04-06T10:19:50.486Z"
   },
   {
    "duration": 19,
    "start_time": "2022-04-06T10:19:50.518Z"
   },
   {
    "duration": 36,
    "start_time": "2022-04-06T10:19:50.539Z"
   },
   {
    "duration": 8,
    "start_time": "2022-04-06T10:19:50.577Z"
   },
   {
    "duration": 9,
    "start_time": "2022-04-06T10:19:50.587Z"
   },
   {
    "duration": 14,
    "start_time": "2022-04-06T10:19:50.598Z"
   },
   {
    "duration": 18,
    "start_time": "2022-04-06T10:19:50.614Z"
   },
   {
    "duration": 21,
    "start_time": "2022-04-06T10:19:50.634Z"
   },
   {
    "duration": 21,
    "start_time": "2022-04-06T10:19:50.659Z"
   },
   {
    "duration": 36,
    "start_time": "2022-04-06T10:19:50.683Z"
   },
   {
    "duration": 11,
    "start_time": "2022-04-06T10:19:50.722Z"
   },
   {
    "duration": 49,
    "start_time": "2022-04-06T10:19:50.736Z"
   },
   {
    "duration": 13,
    "start_time": "2022-04-06T10:19:50.787Z"
   },
   {
    "duration": 8,
    "start_time": "2022-04-06T10:19:50.802Z"
   },
   {
    "duration": 17,
    "start_time": "2022-04-06T10:19:50.812Z"
   },
   {
    "duration": 27,
    "start_time": "2022-04-06T10:19:50.831Z"
   },
   {
    "duration": 26,
    "start_time": "2022-04-06T10:19:50.860Z"
   },
   {
    "duration": 59,
    "start_time": "2022-04-06T10:19:50.888Z"
   },
   {
    "duration": 10,
    "start_time": "2022-04-06T10:19:50.949Z"
   },
   {
    "duration": 496,
    "start_time": "2022-04-06T10:19:50.973Z"
   },
   {
    "duration": 232,
    "start_time": "2022-04-06T10:19:51.474Z"
   },
   {
    "duration": 10,
    "start_time": "2022-04-06T10:19:51.708Z"
   },
   {
    "duration": 24,
    "start_time": "2022-04-06T10:19:51.720Z"
   },
   {
    "duration": 530,
    "start_time": "2022-04-06T10:19:51.746Z"
   },
   {
    "duration": 337,
    "start_time": "2022-04-06T10:19:52.279Z"
   },
   {
    "duration": 460,
    "start_time": "2022-04-06T10:19:52.618Z"
   },
   {
    "duration": 9,
    "start_time": "2022-04-06T10:19:53.081Z"
   },
   {
    "duration": 348,
    "start_time": "2022-04-06T10:19:53.092Z"
   },
   {
    "duration": 463,
    "start_time": "2022-04-06T10:19:53.442Z"
   },
   {
    "duration": 6,
    "start_time": "2022-04-06T10:19:53.907Z"
   },
   {
    "duration": 250,
    "start_time": "2022-04-06T10:19:53.915Z"
   },
   {
    "duration": 17,
    "start_time": "2022-04-06T10:19:54.167Z"
   },
   {
    "duration": 276,
    "start_time": "2022-04-06T10:19:54.187Z"
   },
   {
    "duration": 497,
    "start_time": "2022-04-06T10:19:54.465Z"
   },
   {
    "duration": 5,
    "start_time": "2022-04-06T10:19:54.973Z"
   },
   {
    "duration": 5,
    "start_time": "2022-04-06T10:19:54.989Z"
   },
   {
    "duration": 22,
    "start_time": "2022-04-06T10:19:54.997Z"
   },
   {
    "duration": 10,
    "start_time": "2022-04-06T10:19:55.022Z"
   },
   {
    "duration": 760,
    "start_time": "2022-04-06T10:19:55.034Z"
   },
   {
    "duration": 275,
    "start_time": "2022-04-06T10:19:55.796Z"
   },
   {
    "duration": 11,
    "start_time": "2022-04-06T10:19:56.073Z"
   },
   {
    "duration": 287,
    "start_time": "2022-04-06T10:19:56.086Z"
   },
   {
    "duration": 5,
    "start_time": "2022-04-06T10:19:56.375Z"
   },
   {
    "duration": 9,
    "start_time": "2022-04-06T10:19:56.382Z"
   },
   {
    "duration": 16,
    "start_time": "2022-04-06T10:19:56.393Z"
   },
   {
    "duration": 325,
    "start_time": "2022-04-06T10:19:56.411Z"
   },
   {
    "duration": 6,
    "start_time": "2022-04-06T10:19:56.738Z"
   },
   {
    "duration": 33,
    "start_time": "2022-04-06T10:19:56.746Z"
   },
   {
    "duration": 13,
    "start_time": "2022-04-06T10:19:56.781Z"
   },
   {
    "duration": 24,
    "start_time": "2022-04-06T10:19:56.796Z"
   },
   {
    "duration": 52,
    "start_time": "2022-04-06T10:19:56.823Z"
   },
   {
    "duration": 20,
    "start_time": "2022-04-06T10:19:56.878Z"
   },
   {
    "duration": 36,
    "start_time": "2022-04-06T10:20:08.146Z"
   },
   {
    "duration": 153,
    "start_time": "2022-04-06T10:20:23.343Z"
   },
   {
    "duration": 7,
    "start_time": "2022-04-06T10:20:30.021Z"
   },
   {
    "duration": 6,
    "start_time": "2022-04-06T10:20:33.589Z"
   },
   {
    "duration": 152,
    "start_time": "2022-04-06T10:42:36.367Z"
   }
  ],
  "kernelspec": {
   "display_name": "Python 3",
   "language": "python",
   "name": "python3"
  },
  "language_info": {
   "codemirror_mode": {
    "name": "ipython",
    "version": 3
   },
   "file_extension": ".py",
   "mimetype": "text/x-python",
   "name": "python",
   "nbconvert_exporter": "python",
   "pygments_lexer": "ipython3",
   "version": "3.7.0"
  },
  "toc": {
   "base_numbering": 1,
   "nav_menu": {},
   "number_sections": true,
   "sideBar": true,
   "skip_h1_title": true,
   "title_cell": "Table of Contents",
   "title_sidebar": "Contents",
   "toc_cell": false,
   "toc_position": {},
   "toc_section_display": true,
   "toc_window_display": false
  }
 },
 "nbformat": 4,
 "nbformat_minor": 2
}
